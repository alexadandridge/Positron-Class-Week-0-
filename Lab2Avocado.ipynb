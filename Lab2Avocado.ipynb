{
 "cells": [
  {
   "cell_type": "markdown",
   "id": "800b3cad",
   "metadata": {},
   "source": [
    "---\n",
    "title: Lab 2- Avocado Prices for GSB 544\n",
    "author: Alexa Dandridge\n",
    "format:\n",
    "    html:\n",
    "        embed-resources: true\n",
    "        code-line numbers: true\n",
    "\n",
    "---\n",
    "**GitHub Repository** <https://github.com/alexadandridge/Positron-Class-Week-0->"
   ]
  },
  {
   "cell_type": "code",
   "execution_count": 196,
   "id": "0e95e437",
   "metadata": {},
   "outputs": [],
   "source": [
    "\n",
    "import pandas as pd\n",
    "import numpy as np\n",
    "\n",
    "# Uploading the data\n",
    "file_path = 'avocado-updated-2020.csv'\n",
    "\n",
    "avocadodata = pd.read_csv(file_path)\n"
   ]
  },
  {
   "cell_type": "code",
   "execution_count": 197,
   "id": "7e359b4a",
   "metadata": {},
   "outputs": [
    {
     "data": {
      "text/html": [
       "<div>\n",
       "<style scoped>\n",
       "    .dataframe tbody tr th:only-of-type {\n",
       "        vertical-align: middle;\n",
       "    }\n",
       "\n",
       "    .dataframe tbody tr th {\n",
       "        vertical-align: top;\n",
       "    }\n",
       "\n",
       "    .dataframe thead th {\n",
       "        text-align: right;\n",
       "    }\n",
       "</style>\n",
       "<table border=\"1\" class=\"dataframe\">\n",
       "  <thead>\n",
       "    <tr style=\"text-align: right;\">\n",
       "      <th></th>\n",
       "      <th>date</th>\n",
       "      <th>average_price</th>\n",
       "      <th>total_volume</th>\n",
       "      <th>4046</th>\n",
       "      <th>4225</th>\n",
       "      <th>4770</th>\n",
       "      <th>total_bags</th>\n",
       "      <th>small_bags</th>\n",
       "      <th>large_bags</th>\n",
       "      <th>xlarge_bags</th>\n",
       "      <th>type</th>\n",
       "      <th>year</th>\n",
       "      <th>geography</th>\n",
       "    </tr>\n",
       "  </thead>\n",
       "  <tbody>\n",
       "    <tr>\n",
       "      <th>0</th>\n",
       "      <td>2015-01-04</td>\n",
       "      <td>1.22</td>\n",
       "      <td>40873.28</td>\n",
       "      <td>2819.50</td>\n",
       "      <td>28287.42</td>\n",
       "      <td>49.90</td>\n",
       "      <td>9716.46</td>\n",
       "      <td>9186.93</td>\n",
       "      <td>529.53</td>\n",
       "      <td>0.0</td>\n",
       "      <td>conventional</td>\n",
       "      <td>2015</td>\n",
       "      <td>Albany</td>\n",
       "    </tr>\n",
       "    <tr>\n",
       "      <th>1</th>\n",
       "      <td>2015-01-04</td>\n",
       "      <td>1.79</td>\n",
       "      <td>1373.95</td>\n",
       "      <td>57.42</td>\n",
       "      <td>153.88</td>\n",
       "      <td>0.00</td>\n",
       "      <td>1162.65</td>\n",
       "      <td>1162.65</td>\n",
       "      <td>0.00</td>\n",
       "      <td>0.0</td>\n",
       "      <td>organic</td>\n",
       "      <td>2015</td>\n",
       "      <td>Albany</td>\n",
       "    </tr>\n",
       "    <tr>\n",
       "      <th>2</th>\n",
       "      <td>2015-01-04</td>\n",
       "      <td>1.00</td>\n",
       "      <td>435021.49</td>\n",
       "      <td>364302.39</td>\n",
       "      <td>23821.16</td>\n",
       "      <td>82.15</td>\n",
       "      <td>46815.79</td>\n",
       "      <td>16707.15</td>\n",
       "      <td>30108.64</td>\n",
       "      <td>0.0</td>\n",
       "      <td>conventional</td>\n",
       "      <td>2015</td>\n",
       "      <td>Atlanta</td>\n",
       "    </tr>\n",
       "    <tr>\n",
       "      <th>3</th>\n",
       "      <td>2015-01-04</td>\n",
       "      <td>1.76</td>\n",
       "      <td>3846.69</td>\n",
       "      <td>1500.15</td>\n",
       "      <td>938.35</td>\n",
       "      <td>0.00</td>\n",
       "      <td>1408.19</td>\n",
       "      <td>1071.35</td>\n",
       "      <td>336.84</td>\n",
       "      <td>0.0</td>\n",
       "      <td>organic</td>\n",
       "      <td>2015</td>\n",
       "      <td>Atlanta</td>\n",
       "    </tr>\n",
       "    <tr>\n",
       "      <th>4</th>\n",
       "      <td>2015-01-04</td>\n",
       "      <td>1.08</td>\n",
       "      <td>788025.06</td>\n",
       "      <td>53987.31</td>\n",
       "      <td>552906.04</td>\n",
       "      <td>39995.03</td>\n",
       "      <td>141136.68</td>\n",
       "      <td>137146.07</td>\n",
       "      <td>3990.61</td>\n",
       "      <td>0.0</td>\n",
       "      <td>conventional</td>\n",
       "      <td>2015</td>\n",
       "      <td>Baltimore/Washington</td>\n",
       "    </tr>\n",
       "  </tbody>\n",
       "</table>\n",
       "</div>"
      ],
      "text/plain": [
       "         date  average_price  ...  year             geography\n",
       "0  2015-01-04           1.22  ...  2015                Albany\n",
       "1  2015-01-04           1.79  ...  2015                Albany\n",
       "2  2015-01-04           1.00  ...  2015               Atlanta\n",
       "3  2015-01-04           1.76  ...  2015               Atlanta\n",
       "4  2015-01-04           1.08  ...  2015  Baltimore/Washington\n",
       "\n",
       "[5 rows x 13 columns]"
      ]
     },
     "execution_count": null,
     "metadata": {},
     "output_type": "execute_result"
    }
   ],
   "source": [
    "#Checking to see if the data actually uploaded \n",
    "\n",
    "avocadodata.head()"
   ]
  },
  {
   "cell_type": "markdown",
   "id": "ef413756",
   "metadata": {},
   "source": [
    "1. Briefly describe the data set. What information does it contain:\n",
    "\n",
    "This data set contains historical data on avocado, specifically the prices and sales volume in multiple cities, states, and regions of the USA between January 4, 2015 to May 17, 2020. The columns for this data set include the following: data, average_price (of a single avocado), total_volume (total number of avocados sold), 4046 (total number of avocados with PLU 4046 sold), 4225 (total number of avocados with PLU 4225 sold), 4770 (total number of avocados with PLU 4770 sold), total_bags, small_bags, large_bags, xlarge_bags, type, year, and geography. "
   ]
  },
  {
   "cell_type": "code",
   "execution_count": 198,
   "id": "b495b5a6",
   "metadata": {},
   "outputs": [],
   "source": [
    "# Renaming the columns to make more sense\n",
    "\n",
    "avocadodata.rename(columns={\n",
    "    '4046': 'small_avocado',\n",
    "    '4225': 'large_avocado', \n",
    "    '4770': 'extrasmall_avocado',\n",
    "    'total_volume': 'total_sold'\n",
    "}, inplace=True)\n"
   ]
  },
  {
   "cell_type": "code",
   "execution_count": 199,
   "id": "cbc75055",
   "metadata": {},
   "outputs": [
    {
     "data": {
      "text/plain": [
       "array(['Albany', 'Atlanta', 'Baltimore/Washington', 'Boise', 'Boston',\n",
       "       'Buffalo/Rochester', 'California', 'Charlotte', 'Chicago',\n",
       "       'Cincinnati/Dayton', 'Columbus', 'Dallas/Ft. Worth', 'Denver',\n",
       "       'Detroit', 'Grand Rapids', 'Great Lakes', 'Harrisburg/Scranton',\n",
       "       'Hartford/Springfield', 'Houston', 'Indianapolis', 'Jacksonville',\n",
       "       'Las Vegas', 'Los Angeles', 'Louisville', 'Miami/Ft. Lauderdale',\n",
       "       'Midsouth', 'Nashville', 'New Orleans/Mobile', 'New York', 'Northeast',\n",
       "       'Northern New England', 'Orlando', 'Philadelphia', 'Phoenix/Tucson',\n",
       "       'Pittsburgh', 'Plains', 'Portland', 'Raleigh/Greensboro',\n",
       "       'Richmond/Norfolk', 'Roanoke', 'Sacramento', 'San Diego',\n",
       "       'San Francisco', 'Seattle', 'South Carolina', 'South Central',\n",
       "       'Southeast', 'Spokane', 'St. Louis', 'Syracuse', 'Tampa', 'Total U.S.',\n",
       "       'West', 'West Tex/New Mexico'], dtype=object)"
      ]
     },
     "execution_count": null,
     "metadata": {},
     "output_type": "execute_result"
    }
   ],
   "source": [
    "# Trying to see how I should organize the 'geography' section\n",
    "avocadodata['geography'].unique()\n"
   ]
  },
  {
   "cell_type": "code",
   "execution_count": 200,
   "id": "b0313691",
   "metadata": {},
   "outputs": [],
   "source": [
    "# Adding geo_type variable to define \"metro\", \"state\", \"region\", and \"US\"\n",
    "geo_type_map = {\n",
    "    'Total U.S.': 'US',\n",
    "    'West': 'region',\n",
    "    'Northeast': 'region',\n",
    "    'Southeast': 'region',\n",
    "    'South Central': 'region',\n",
    "    'Plains': 'region',\n",
    "    'Midsouth': 'region',\n",
    "    'Great Lakes': 'region',\n",
    "    'Northern New England': 'region',\n",
    "    'California': 'state',\n",
    "    'South Carolina': 'state',\n",
    "    'West Tex/New Mexico': 'state'\n",
    "}\n"
   ]
  },
  {
   "cell_type": "code",
   "execution_count": 201,
   "id": "94818c19",
   "metadata": {},
   "outputs": [],
   "source": [
    "# Making \"metro\" apply to all locations not specified above\n",
    "avocadodata['geo_type'] = avocadodata['geography'].map(geo_type_map).fillna('metro')\n"
   ]
  },
  {
   "cell_type": "code",
   "execution_count": 202,
   "id": "24b0925e",
   "metadata": {},
   "outputs": [],
   "source": [
    "# Creating new dataframe for question 3: Which major geographical region sold the most total organic, small Hass avocados in 2017?\n",
    "\n",
    "# Converting date column to datetime\n",
    "avocadodata['date'] = pd.to_datetime(avocadodata['date'])\n",
    "\n",
    "# Filter rows where year is 2017\n",
    "q3data = avocadodata[avocadodata['date'].dt.year == 2017]\n"
   ]
  },
  {
   "cell_type": "code",
   "execution_count": 203,
   "id": "30534184",
   "metadata": {},
   "outputs": [],
   "source": [
    "# Filtering for including only organic and small hass avocados in q3 dataset\n",
    "\n",
    "q3data = q3data[\n",
    "    (q3data['type'] == 'organic') &       \n",
    "    (q3data['geo_type'] == 'region')      \n",
    "]"
   ]
  },
  {
   "cell_type": "code",
   "execution_count": 204,
   "id": "ad40ed98",
   "metadata": {},
   "outputs": [
    {
     "data": {
      "text/plain": [
       "geography\n",
       "Great Lakes              202487.68\n",
       "Midsouth                 186395.50\n",
       "Northeast                925832.36\n",
       "Northern New England       1249.48\n",
       "Plains                   168583.40\n",
       "South Central           1717104.19\n",
       "Southeast                285124.34\n",
       "West                    1870206.29\n",
       "Name: small_avocado, dtype: float64"
      ]
     },
     "execution_count": null,
     "metadata": {},
     "output_type": "execute_result"
    }
   ],
   "source": [
    "# Grouping by region and counting avocado sales\n",
    "region_sales = q3data.groupby('geography')['small_avocado'].sum()\n",
    "region_sales\n"
   ]
  },
  {
   "cell_type": "code",
   "execution_count": 205,
   "id": "ce69790c",
   "metadata": {},
   "outputs": [
    {
     "data": {
      "text/plain": [
       "'West'"
      ]
     },
     "execution_count": null,
     "metadata": {},
     "output_type": "execute_result"
    }
   ],
   "source": [
    "# Finding region with most sales\n",
    "\n",
    "top_region = region_sales.idxmax()\n",
    "top_region\n"
   ]
  },
  {
   "cell_type": "code",
   "execution_count": 206,
   "id": "95c34021",
   "metadata": {},
   "outputs": [
    {
     "data": {
      "text/plain": [
       "1870206.29"
      ]
     },
     "execution_count": null,
     "metadata": {},
     "output_type": "execute_result"
    }
   ],
   "source": [
    "# Finding out the actual amount of sales \n",
    "\n",
    "top_sales = region_sales.max()\n",
    "top_sales"
   ]
  },
  {
   "cell_type": "markdown",
   "id": "10ecfcf2",
   "metadata": {},
   "source": [
    "The major geographical region that sold the most total organic, small Hass avocados in 2017 was \"West\" with about 1,870,206 avocados sold. "
   ]
  },
  {
   "cell_type": "markdown",
   "id": "ad97df49",
   "metadata": {},
   "source": [
    "4. Split the date variable into month, day, and year variables. In which month is the highest average volume of avocado sales?\n",
    "\n"
   ]
  },
  {
   "cell_type": "code",
   "execution_count": 207,
   "id": "e0592b7f",
   "metadata": {},
   "outputs": [],
   "source": [
    "# Extracting the year, month, and day (year was already given)\n",
    "\n",
    "avocadodata['year'] = avocadodata['date'].dt.year\n",
    "avocadodata['month'] = avocadodata['date'].dt.month\n",
    "avocadodata['day'] = avocadodata['date'].dt.day\n"
   ]
  },
  {
   "cell_type": "code",
   "execution_count": 208,
   "id": "5456d6f0",
   "metadata": {},
   "outputs": [],
   "source": [
    "# Finding month with the highest average volume of avocado sales: (total_sold) in metro.\n",
    "\n",
    "metro_data = avocadodata[avocadodata['geo_type'] == 'metro']\n",
    "monthly_totals = metro_data.groupby('month')['total_sold'].sum()\n",
    "top_month_num = monthly_totals.idxmax()\n",
    "top_month_sales = monthly_totals.max()\n",
    "\n"
   ]
  },
  {
   "cell_type": "code",
   "execution_count": 209,
   "id": "39c77afd",
   "metadata": {},
   "outputs": [
    {
     "data": {
      "text/plain": [
       "np.int32(5)"
      ]
     },
     "execution_count": null,
     "metadata": {},
     "output_type": "execute_result"
    }
   ],
   "source": [
    "# Displaying the month\n",
    "top_month_num"
   ]
  },
  {
   "cell_type": "code",
   "execution_count": 210,
   "id": "a3641aa9",
   "metadata": {},
   "outputs": [
    {
     "data": {
      "text/plain": [
       "740224734.89"
      ]
     },
     "execution_count": null,
     "metadata": {},
     "output_type": "execute_result"
    }
   ],
   "source": [
    "# Displaying the number from May\n",
    "top_month_sales"
   ]
  },
  {
   "cell_type": "markdown",
   "id": "721c6b78",
   "metadata": {},
   "source": [
    "May is the 5th month, meaning over the years, it had the most average monthly avocado sales. "
   ]
  },
  {
   "cell_type": "code",
   "execution_count": 211,
   "id": "cfa2a833",
   "metadata": {},
   "outputs": [],
   "source": [
    "# Finding the exact month and year that had the highest average sales for avocados. \n",
    "\n",
    "newgrouped = metro_data.groupby(['year', 'month'])['total_sold'].sum().reset_index()\n",
    "top_row = newgrouped.loc[newgrouped['total_sold'].idxmax()]\n"
   ]
  },
  {
   "cell_type": "code",
   "execution_count": 212,
   "id": "e08fd797",
   "metadata": {},
   "outputs": [
    {
     "data": {
      "text/plain": [
       "year          2.020000e+03\n",
       "month         5.000000e+00\n",
       "total_sold    1.768148e+08\n",
       "Name: 64, dtype: float64"
      ]
     },
     "execution_count": null,
     "metadata": {},
     "output_type": "execute_result"
    }
   ],
   "source": [
    "# Showing the exact month and year\n",
    "top_row"
   ]
  },
  {
   "cell_type": "markdown",
   "id": "009b8b0e",
   "metadata": {},
   "source": [
    "5. Which metro area geographical regions sold the most total avocados? Plot side-by-side box-plots of the total volume for only the five metro geographical regions with the highest averages for the total_volume variable."
   ]
  },
  {
   "cell_type": "code",
   "execution_count": 214,
   "id": "b9216aee",
   "metadata": {},
   "outputs": [],
   "source": [
    "# Finding the top metros\n",
    "\n",
    "top5_metros = (\n",
    "    metro_data.groupby('geography')['total_sold']\n",
    "    .mean()\n",
    "    .sort_values(ascending=False)\n",
    "    .head(5)\n",
    "    .index\n",
    ")\n"
   ]
  },
  {
   "cell_type": "code",
   "execution_count": 215,
   "id": "2af7d4de",
   "metadata": {},
   "outputs": [
    {
     "data": {
      "text/plain": [
       "Index(['Los Angeles', 'New York', 'Dallas/Ft. Worth', 'Houston',\n",
       "       'Phoenix/Tucson'],\n",
       "      dtype='object', name='geography')"
      ]
     },
     "execution_count": null,
     "metadata": {},
     "output_type": "execute_result"
    }
   ],
   "source": [
    "# Listing the top metros\n",
    "\n",
    "top5_metros"
   ]
  },
  {
   "cell_type": "markdown",
   "id": "b934eb32",
   "metadata": {},
   "source": [
    "The metro area geographical regions that sold the most total avocados include: Los Angeles, New York, Dallas/Ft. Worth, Houston, and Pheonix/Tuscon."
   ]
  },
  {
   "cell_type": "code",
   "execution_count": 216,
   "id": "83dbe01d",
   "metadata": {},
   "outputs": [],
   "source": [
    "# Getting the data into this new dataset\n",
    "\n",
    "top5_data = metro_data[metro_data['geography'].isin(top5_metros)]\n"
   ]
  },
  {
   "cell_type": "code",
   "execution_count": 217,
   "id": "49e4362d",
   "metadata": {},
   "outputs": [],
   "source": [
    "# Creating a plot\n",
    "\n",
    "from plotnine import ggplot, aes, geom_boxplot, labs, theme, element_text, theme_minimal, stat_summary\n",
    "\n",
    "metroboxplot = (\n",
    "    ggplot(top5_data, aes(x='geography', y='total_sold')) +\n",
    "    geom_boxplot(fill=\"skyblue\") \n",
    "    +labs(\n",
    "        title='Top 5 Metro Geographical Regions and Their Total Avocado Sales',\n",
    "        x= 'Metro Location',\n",
    "        y='Total Avocados Sold'\n",
    "    ) \n",
    "    + theme_minimal()\n",
    "    +theme(\n",
    "      \n",
    "        figure_size=(10, 6),\n",
    "        plot_title = element_text(face=\"bold\"),\n",
    "\n",
    "    )\n",
    ")"
   ]
  },
  {
   "cell_type": "code",
   "execution_count": 218,
   "id": "eca678e3",
   "metadata": {},
   "outputs": [
    {
     "data": {
      "image/png": "[encoded data removed]",
      "text/plain": [
       "<Figure size 1000x600 with 1 Axes>"
      ]
     },
     "metadata": {},
     "output_type": "display_data"
    }
   ],
   "source": [
    "# Displaying the plot\n",
    "\n",
    "metroboxplot"
   ]
  },
  {
   "cell_type": "markdown",
   "id": "4b5658fa",
   "metadata": {},
   "source": [
    "6. From your cleaned data set, create a data set with only these California regions and answer the following questions about these California regions only."
   ]
  },
  {
   "cell_type": "code",
   "execution_count": 219,
   "id": "c269f41e",
   "metadata": {},
   "outputs": [],
   "source": [
    "# Creating a new dataset\n",
    "\n",
    "california_metros = ['Los Angeles', 'Sacramento', 'San Diego', 'San Francisco']\n",
    "\n",
    "california_data = avocadodata[\n",
    "    (avocadodata['geography'].isin(california_metros)) &\n",
    "    (avocadodata['geo_type'] == 'metro')  \n",
    "].copy()"
   ]
  },
  {
   "cell_type": "code",
   "execution_count": 220,
   "id": "82638fd7",
   "metadata": {},
   "outputs": [
    {
     "data": {
      "text/html": [
       "<div>\n",
       "<style scoped>\n",
       "    .dataframe tbody tr th:only-of-type {\n",
       "        vertical-align: middle;\n",
       "    }\n",
       "\n",
       "    .dataframe tbody tr th {\n",
       "        vertical-align: top;\n",
       "    }\n",
       "\n",
       "    .dataframe thead th {\n",
       "        text-align: right;\n",
       "    }\n",
       "</style>\n",
       "<table border=\"1\" class=\"dataframe\">\n",
       "  <thead>\n",
       "    <tr style=\"text-align: right;\">\n",
       "      <th></th>\n",
       "      <th>date</th>\n",
       "      <th>average_price</th>\n",
       "      <th>total_sold</th>\n",
       "      <th>small_avocado</th>\n",
       "      <th>large_avocado</th>\n",
       "      <th>extrasmall_avocado</th>\n",
       "      <th>total_bags</th>\n",
       "      <th>small_bags</th>\n",
       "      <th>large_bags</th>\n",
       "      <th>xlarge_bags</th>\n",
       "      <th>type</th>\n",
       "      <th>year</th>\n",
       "      <th>geography</th>\n",
       "      <th>geo_type</th>\n",
       "      <th>month</th>\n",
       "      <th>day</th>\n",
       "    </tr>\n",
       "  </thead>\n",
       "  <tbody>\n",
       "    <tr>\n",
       "      <th>44</th>\n",
       "      <td>2015-01-04</td>\n",
       "      <td>0.85</td>\n",
       "      <td>2682159.95</td>\n",
       "      <td>1837999.65</td>\n",
       "      <td>524430.47</td>\n",
       "      <td>64225.78</td>\n",
       "      <td>255504.05</td>\n",
       "      <td>215571.80</td>\n",
       "      <td>36981.72</td>\n",
       "      <td>2950.53</td>\n",
       "      <td>conventional</td>\n",
       "      <td>2015</td>\n",
       "      <td>Los Angeles</td>\n",
       "      <td>metro</td>\n",
       "      <td>1</td>\n",
       "      <td>4</td>\n",
       "    </tr>\n",
       "    <tr>\n",
       "      <th>45</th>\n",
       "      <td>2015-01-04</td>\n",
       "      <td>1.25</td>\n",
       "      <td>54495.54</td>\n",
       "      <td>47721.51</td>\n",
       "      <td>1723.40</td>\n",
       "      <td>0.00</td>\n",
       "      <td>5050.63</td>\n",
       "      <td>5050.63</td>\n",
       "      <td>0.00</td>\n",
       "      <td>0.00</td>\n",
       "      <td>organic</td>\n",
       "      <td>2015</td>\n",
       "      <td>Los Angeles</td>\n",
       "      <td>metro</td>\n",
       "      <td>1</td>\n",
       "      <td>4</td>\n",
       "    </tr>\n",
       "    <tr>\n",
       "      <th>80</th>\n",
       "      <td>2015-01-04</td>\n",
       "      <td>1.05</td>\n",
       "      <td>430138.88</td>\n",
       "      <td>110693.69</td>\n",
       "      <td>270107.61</td>\n",
       "      <td>9737.50</td>\n",
       "      <td>39600.08</td>\n",
       "      <td>39600.08</td>\n",
       "      <td>0.00</td>\n",
       "      <td>0.00</td>\n",
       "      <td>conventional</td>\n",
       "      <td>2015</td>\n",
       "      <td>Sacramento</td>\n",
       "      <td>metro</td>\n",
       "      <td>1</td>\n",
       "      <td>4</td>\n",
       "    </tr>\n",
       "    <tr>\n",
       "      <th>81</th>\n",
       "      <td>2015-01-04</td>\n",
       "      <td>1.33</td>\n",
       "      <td>9213.49</td>\n",
       "      <td>3727.52</td>\n",
       "      <td>4327.52</td>\n",
       "      <td>0.00</td>\n",
       "      <td>1158.45</td>\n",
       "      <td>1158.45</td>\n",
       "      <td>0.00</td>\n",
       "      <td>0.00</td>\n",
       "      <td>organic</td>\n",
       "      <td>2015</td>\n",
       "      <td>Sacramento</td>\n",
       "      <td>metro</td>\n",
       "      <td>1</td>\n",
       "      <td>4</td>\n",
       "    </tr>\n",
       "    <tr>\n",
       "      <th>82</th>\n",
       "      <td>2015-01-04</td>\n",
       "      <td>0.94</td>\n",
       "      <td>461607.33</td>\n",
       "      <td>244152.26</td>\n",
       "      <td>165299.33</td>\n",
       "      <td>15302.75</td>\n",
       "      <td>36852.99</td>\n",
       "      <td>30884.29</td>\n",
       "      <td>5595.00</td>\n",
       "      <td>373.70</td>\n",
       "      <td>conventional</td>\n",
       "      <td>2015</td>\n",
       "      <td>San Diego</td>\n",
       "      <td>metro</td>\n",
       "      <td>1</td>\n",
       "      <td>4</td>\n",
       "    </tr>\n",
       "    <tr>\n",
       "      <th>...</th>\n",
       "      <td>...</td>\n",
       "      <td>...</td>\n",
       "      <td>...</td>\n",
       "      <td>...</td>\n",
       "      <td>...</td>\n",
       "      <td>...</td>\n",
       "      <td>...</td>\n",
       "      <td>...</td>\n",
       "      <td>...</td>\n",
       "      <td>...</td>\n",
       "      <td>...</td>\n",
       "      <td>...</td>\n",
       "      <td>...</td>\n",
       "      <td>...</td>\n",
       "      <td>...</td>\n",
       "      <td>...</td>\n",
       "    </tr>\n",
       "    <tr>\n",
       "      <th>33018</th>\n",
       "      <td>2020-11-29</td>\n",
       "      <td>1.43</td>\n",
       "      <td>23531.38</td>\n",
       "      <td>3303.69</td>\n",
       "      <td>2057.03</td>\n",
       "      <td>0.00</td>\n",
       "      <td>18170.66</td>\n",
       "      <td>18144.54</td>\n",
       "      <td>26.12</td>\n",
       "      <td>0.00</td>\n",
       "      <td>organic</td>\n",
       "      <td>2020</td>\n",
       "      <td>Sacramento</td>\n",
       "      <td>metro</td>\n",
       "      <td>11</td>\n",
       "      <td>29</td>\n",
       "    </tr>\n",
       "    <tr>\n",
       "      <th>33019</th>\n",
       "      <td>2020-11-29</td>\n",
       "      <td>1.12</td>\n",
       "      <td>469356.72</td>\n",
       "      <td>104509.99</td>\n",
       "      <td>19988.45</td>\n",
       "      <td>7210.47</td>\n",
       "      <td>337647.81</td>\n",
       "      <td>189341.36</td>\n",
       "      <td>127701.64</td>\n",
       "      <td>20604.81</td>\n",
       "      <td>conventional</td>\n",
       "      <td>2020</td>\n",
       "      <td>San Diego</td>\n",
       "      <td>metro</td>\n",
       "      <td>11</td>\n",
       "      <td>29</td>\n",
       "    </tr>\n",
       "    <tr>\n",
       "      <th>33020</th>\n",
       "      <td>2020-11-29</td>\n",
       "      <td>1.95</td>\n",
       "      <td>25799.95</td>\n",
       "      <td>894.63</td>\n",
       "      <td>838.11</td>\n",
       "      <td>0.00</td>\n",
       "      <td>24067.21</td>\n",
       "      <td>9691.46</td>\n",
       "      <td>14375.75</td>\n",
       "      <td>0.00</td>\n",
       "      <td>organic</td>\n",
       "      <td>2020</td>\n",
       "      <td>San Diego</td>\n",
       "      <td>metro</td>\n",
       "      <td>11</td>\n",
       "      <td>29</td>\n",
       "    </tr>\n",
       "    <tr>\n",
       "      <th>33021</th>\n",
       "      <td>2020-11-29</td>\n",
       "      <td>1.50</td>\n",
       "      <td>644141.37</td>\n",
       "      <td>128555.43</td>\n",
       "      <td>136718.24</td>\n",
       "      <td>5597.21</td>\n",
       "      <td>373270.49</td>\n",
       "      <td>159276.65</td>\n",
       "      <td>207760.32</td>\n",
       "      <td>6233.52</td>\n",
       "      <td>conventional</td>\n",
       "      <td>2020</td>\n",
       "      <td>San Francisco</td>\n",
       "      <td>metro</td>\n",
       "      <td>11</td>\n",
       "      <td>29</td>\n",
       "    </tr>\n",
       "    <tr>\n",
       "      <th>33022</th>\n",
       "      <td>2020-11-29</td>\n",
       "      <td>1.87</td>\n",
       "      <td>59527.02</td>\n",
       "      <td>2815.23</td>\n",
       "      <td>4542.30</td>\n",
       "      <td>0.00</td>\n",
       "      <td>52169.49</td>\n",
       "      <td>52034.33</td>\n",
       "      <td>135.16</td>\n",
       "      <td>0.00</td>\n",
       "      <td>organic</td>\n",
       "      <td>2020</td>\n",
       "      <td>San Francisco</td>\n",
       "      <td>metro</td>\n",
       "      <td>11</td>\n",
       "      <td>29</td>\n",
       "    </tr>\n",
       "  </tbody>\n",
       "</table>\n",
       "<p>2448 rows × 16 columns</p>\n",
       "</div>"
      ],
      "text/plain": [
       "            date  average_price  total_sold  ...  geo_type  month  day\n",
       "44    2015-01-04           0.85  2682159.95  ...     metro      1    4\n",
       "45    2015-01-04           1.25    54495.54  ...     metro      1    4\n",
       "80    2015-01-04           1.05   430138.88  ...     metro      1    4\n",
       "81    2015-01-04           1.33     9213.49  ...     metro      1    4\n",
       "82    2015-01-04           0.94   461607.33  ...     metro      1    4\n",
       "...          ...            ...         ...  ...       ...    ...  ...\n",
       "33018 2020-11-29           1.43    23531.38  ...     metro     11   29\n",
       "33019 2020-11-29           1.12   469356.72  ...     metro     11   29\n",
       "33020 2020-11-29           1.95    25799.95  ...     metro     11   29\n",
       "33021 2020-11-29           1.50   644141.37  ...     metro     11   29\n",
       "33022 2020-11-29           1.87    59527.02  ...     metro     11   29\n",
       "\n",
       "[2448 rows x 16 columns]"
      ]
     },
     "execution_count": null,
     "metadata": {},
     "output_type": "execute_result"
    }
   ],
   "source": [
    "# Checking to see if new dataset was created\n",
    "california_data"
   ]
  },
  {
   "cell_type": "markdown",
   "id": "d7be71eb",
   "metadata": {},
   "source": [
    "7. In which California regions is the price of organic versus conventional avocados most different? Support your answer with a few summary statistics AND a visualization.\n",
    "\n"
   ]
  },
  {
   "cell_type": "code",
   "execution_count": 221,
   "id": "e1fcfa58",
   "metadata": {},
   "outputs": [],
   "source": [
    "# Computing the statistics \n",
    "grouped = california_data.groupby(['geography', 'type'])['average_price']\n",
    "\n",
    "summary = grouped.agg(['mean', 'median', 'std', 'count']).reset_index()\n"
   ]
  },
  {
   "cell_type": "code",
   "execution_count": 222,
   "id": "7b0e83b6",
   "metadata": {},
   "outputs": [
    {
     "data": {
      "text/html": [
       "<div>\n",
       "<style scoped>\n",
       "    .dataframe tbody tr th:only-of-type {\n",
       "        vertical-align: middle;\n",
       "    }\n",
       "\n",
       "    .dataframe tbody tr th {\n",
       "        vertical-align: top;\n",
       "    }\n",
       "\n",
       "    .dataframe thead th {\n",
       "        text-align: right;\n",
       "    }\n",
       "</style>\n",
       "<table border=\"1\" class=\"dataframe\">\n",
       "  <thead>\n",
       "    <tr style=\"text-align: right;\">\n",
       "      <th></th>\n",
       "      <th>geography</th>\n",
       "      <th>type</th>\n",
       "      <th>mean</th>\n",
       "      <th>median</th>\n",
       "      <th>std</th>\n",
       "      <th>count</th>\n",
       "    </tr>\n",
       "  </thead>\n",
       "  <tbody>\n",
       "    <tr>\n",
       "      <th>0</th>\n",
       "      <td>Los Angeles</td>\n",
       "      <td>conventional</td>\n",
       "      <td>1.047124</td>\n",
       "      <td>1.020</td>\n",
       "      <td>0.231167</td>\n",
       "      <td>306</td>\n",
       "    </tr>\n",
       "    <tr>\n",
       "      <th>1</th>\n",
       "      <td>Los Angeles</td>\n",
       "      <td>organic</td>\n",
       "      <td>1.574902</td>\n",
       "      <td>1.585</td>\n",
       "      <td>0.311722</td>\n",
       "      <td>306</td>\n",
       "    </tr>\n",
       "    <tr>\n",
       "      <th>2</th>\n",
       "      <td>Sacramento</td>\n",
       "      <td>conventional</td>\n",
       "      <td>1.295359</td>\n",
       "      <td>1.260</td>\n",
       "      <td>0.219177</td>\n",
       "      <td>306</td>\n",
       "    </tr>\n",
       "    <tr>\n",
       "      <th>3</th>\n",
       "      <td>Sacramento</td>\n",
       "      <td>organic</td>\n",
       "      <td>1.873856</td>\n",
       "      <td>1.840</td>\n",
       "      <td>0.292875</td>\n",
       "      <td>306</td>\n",
       "    </tr>\n",
       "    <tr>\n",
       "      <th>4</th>\n",
       "      <td>San Diego</td>\n",
       "      <td>conventional</td>\n",
       "      <td>1.113856</td>\n",
       "      <td>1.090</td>\n",
       "      <td>0.242960</td>\n",
       "      <td>306</td>\n",
       "    </tr>\n",
       "    <tr>\n",
       "      <th>5</th>\n",
       "      <td>San Diego</td>\n",
       "      <td>organic</td>\n",
       "      <td>1.798366</td>\n",
       "      <td>1.800</td>\n",
       "      <td>0.331655</td>\n",
       "      <td>306</td>\n",
       "    </tr>\n",
       "    <tr>\n",
       "      <th>6</th>\n",
       "      <td>San Francisco</td>\n",
       "      <td>conventional</td>\n",
       "      <td>1.400490</td>\n",
       "      <td>1.390</td>\n",
       "      <td>0.272060</td>\n",
       "      <td>306</td>\n",
       "    </tr>\n",
       "    <tr>\n",
       "      <th>7</th>\n",
       "      <td>San Francisco</td>\n",
       "      <td>organic</td>\n",
       "      <td>2.119444</td>\n",
       "      <td>2.060</td>\n",
       "      <td>0.395854</td>\n",
       "      <td>306</td>\n",
       "    </tr>\n",
       "  </tbody>\n",
       "</table>\n",
       "</div>"
      ],
      "text/plain": [
       "       geography          type      mean  median       std  count\n",
       "0    Los Angeles  conventional  1.047124   1.020  0.231167    306\n",
       "1    Los Angeles       organic  1.574902   1.585  0.311722    306\n",
       "2     Sacramento  conventional  1.295359   1.260  0.219177    306\n",
       "3     Sacramento       organic  1.873856   1.840  0.292875    306\n",
       "4      San Diego  conventional  1.113856   1.090  0.242960    306\n",
       "5      San Diego       organic  1.798366   1.800  0.331655    306\n",
       "6  San Francisco  conventional  1.400490   1.390  0.272060    306\n",
       "7  San Francisco       organic  2.119444   2.060  0.395854    306"
      ]
     },
     "execution_count": null,
     "metadata": {},
     "output_type": "execute_result"
    }
   ],
   "source": [
    "# Showing the stats\n",
    "summary"
   ]
  },
  {
   "cell_type": "code",
   "execution_count": 223,
   "id": "a4a8f5ea",
   "metadata": {},
   "outputs": [],
   "source": [
    "# Finding the mean differences\n",
    "\n",
    "pivotdiff = summary.pivot(index='geography', columns='type', values='mean').reset_index()\n",
    "pivotdiff['price_diff'] = pivotdiff['organic'] - pivotdiff['conventional']"
   ]
  },
  {
   "cell_type": "code",
   "execution_count": 224,
   "id": "5efe0c30",
   "metadata": {},
   "outputs": [
    {
     "data": {
      "text/html": [
       "<div>\n",
       "<style scoped>\n",
       "    .dataframe tbody tr th:only-of-type {\n",
       "        vertical-align: middle;\n",
       "    }\n",
       "\n",
       "    .dataframe tbody tr th {\n",
       "        vertical-align: top;\n",
       "    }\n",
       "\n",
       "    .dataframe thead th {\n",
       "        text-align: right;\n",
       "    }\n",
       "</style>\n",
       "<table border=\"1\" class=\"dataframe\">\n",
       "  <thead>\n",
       "    <tr style=\"text-align: right;\">\n",
       "      <th>type</th>\n",
       "      <th>geography</th>\n",
       "      <th>conventional</th>\n",
       "      <th>organic</th>\n",
       "      <th>price_diff</th>\n",
       "    </tr>\n",
       "  </thead>\n",
       "  <tbody>\n",
       "    <tr>\n",
       "      <th>0</th>\n",
       "      <td>Los Angeles</td>\n",
       "      <td>1.047124</td>\n",
       "      <td>1.574902</td>\n",
       "      <td>0.527778</td>\n",
       "    </tr>\n",
       "    <tr>\n",
       "      <th>1</th>\n",
       "      <td>Sacramento</td>\n",
       "      <td>1.295359</td>\n",
       "      <td>1.873856</td>\n",
       "      <td>0.578497</td>\n",
       "    </tr>\n",
       "    <tr>\n",
       "      <th>2</th>\n",
       "      <td>San Diego</td>\n",
       "      <td>1.113856</td>\n",
       "      <td>1.798366</td>\n",
       "      <td>0.684510</td>\n",
       "    </tr>\n",
       "    <tr>\n",
       "      <th>3</th>\n",
       "      <td>San Francisco</td>\n",
       "      <td>1.400490</td>\n",
       "      <td>2.119444</td>\n",
       "      <td>0.718954</td>\n",
       "    </tr>\n",
       "  </tbody>\n",
       "</table>\n",
       "</div>"
      ],
      "text/plain": [
       "type      geography  conventional   organic  price_diff\n",
       "0       Los Angeles      1.047124  1.574902    0.527778\n",
       "1        Sacramento      1.295359  1.873856    0.578497\n",
       "2         San Diego      1.113856  1.798366    0.684510\n",
       "3     San Francisco      1.400490  2.119444    0.718954"
      ]
     },
     "execution_count": null,
     "metadata": {},
     "output_type": "execute_result"
    }
   ],
   "source": [
    "# Displaying mean differences\n",
    "\n",
    "pivotdiff"
   ]
  },
  {
   "cell_type": "code",
   "execution_count": 225,
   "id": "90e66690",
   "metadata": {},
   "outputs": [
    {
     "data": {
      "text/html": [
       "<div>\n",
       "<style scoped>\n",
       "    .dataframe tbody tr th:only-of-type {\n",
       "        vertical-align: middle;\n",
       "    }\n",
       "\n",
       "    .dataframe tbody tr th {\n",
       "        vertical-align: top;\n",
       "    }\n",
       "\n",
       "    .dataframe thead th {\n",
       "        text-align: right;\n",
       "    }\n",
       "</style>\n",
       "<table border=\"1\" class=\"dataframe\">\n",
       "  <thead>\n",
       "    <tr style=\"text-align: right;\">\n",
       "      <th>type</th>\n",
       "      <th>geography</th>\n",
       "      <th>conventional</th>\n",
       "      <th>organic</th>\n",
       "      <th>price_diff</th>\n",
       "    </tr>\n",
       "  </thead>\n",
       "  <tbody>\n",
       "    <tr>\n",
       "      <th>3</th>\n",
       "      <td>San Francisco</td>\n",
       "      <td>1.400490</td>\n",
       "      <td>2.119444</td>\n",
       "      <td>0.718954</td>\n",
       "    </tr>\n",
       "    <tr>\n",
       "      <th>2</th>\n",
       "      <td>San Diego</td>\n",
       "      <td>1.113856</td>\n",
       "      <td>1.798366</td>\n",
       "      <td>0.684510</td>\n",
       "    </tr>\n",
       "    <tr>\n",
       "      <th>1</th>\n",
       "      <td>Sacramento</td>\n",
       "      <td>1.295359</td>\n",
       "      <td>1.873856</td>\n",
       "      <td>0.578497</td>\n",
       "    </tr>\n",
       "    <tr>\n",
       "      <th>0</th>\n",
       "      <td>Los Angeles</td>\n",
       "      <td>1.047124</td>\n",
       "      <td>1.574902</td>\n",
       "      <td>0.527778</td>\n",
       "    </tr>\n",
       "  </tbody>\n",
       "</table>\n",
       "</div>"
      ],
      "text/plain": [
       "type      geography  conventional   organic  price_diff\n",
       "3     San Francisco      1.400490  2.119444    0.718954\n",
       "2         San Diego      1.113856  1.798366    0.684510\n",
       "1        Sacramento      1.295359  1.873856    0.578497\n",
       "0       Los Angeles      1.047124  1.574902    0.527778"
      ]
     },
     "execution_count": null,
     "metadata": {},
     "output_type": "execute_result"
    }
   ],
   "source": [
    "#Displaying mean price differences in order\n",
    "\n",
    "pivotdiff.sort_values(by='price_diff', ascending=False)"
   ]
  },
  {
   "cell_type": "markdown",
   "id": "8cfea24c",
   "metadata": {},
   "source": [
    "The price difference in means for conventional and organic avocados is most different in San Fransisco, due to this city having the largest price at 0.718954. San Diego follows with a price difference of mean at 0.684510."
   ]
  },
  {
   "cell_type": "code",
   "execution_count": 226,
   "id": "a979c401",
   "metadata": {},
   "outputs": [],
   "source": [
    "# Finding the median differences\n",
    "\n",
    "pivotmed = summary.pivot(index='geography', columns='type', values='median').reset_index()\n",
    "pivotmed['price_diff'] = pivotmed['organic'] - pivotmed['conventional']\n",
    "\n"
   ]
  },
  {
   "cell_type": "code",
   "execution_count": 227,
   "id": "5c895911",
   "metadata": {},
   "outputs": [
    {
     "data": {
      "text/html": [
       "<div>\n",
       "<style scoped>\n",
       "    .dataframe tbody tr th:only-of-type {\n",
       "        vertical-align: middle;\n",
       "    }\n",
       "\n",
       "    .dataframe tbody tr th {\n",
       "        vertical-align: top;\n",
       "    }\n",
       "\n",
       "    .dataframe thead th {\n",
       "        text-align: right;\n",
       "    }\n",
       "</style>\n",
       "<table border=\"1\" class=\"dataframe\">\n",
       "  <thead>\n",
       "    <tr style=\"text-align: right;\">\n",
       "      <th>type</th>\n",
       "      <th>geography</th>\n",
       "      <th>conventional</th>\n",
       "      <th>organic</th>\n",
       "      <th>price_diff</th>\n",
       "    </tr>\n",
       "  </thead>\n",
       "  <tbody>\n",
       "    <tr>\n",
       "      <th>0</th>\n",
       "      <td>Los Angeles</td>\n",
       "      <td>1.02</td>\n",
       "      <td>1.585</td>\n",
       "      <td>0.565</td>\n",
       "    </tr>\n",
       "    <tr>\n",
       "      <th>1</th>\n",
       "      <td>Sacramento</td>\n",
       "      <td>1.26</td>\n",
       "      <td>1.840</td>\n",
       "      <td>0.580</td>\n",
       "    </tr>\n",
       "    <tr>\n",
       "      <th>2</th>\n",
       "      <td>San Diego</td>\n",
       "      <td>1.09</td>\n",
       "      <td>1.800</td>\n",
       "      <td>0.710</td>\n",
       "    </tr>\n",
       "    <tr>\n",
       "      <th>3</th>\n",
       "      <td>San Francisco</td>\n",
       "      <td>1.39</td>\n",
       "      <td>2.060</td>\n",
       "      <td>0.670</td>\n",
       "    </tr>\n",
       "  </tbody>\n",
       "</table>\n",
       "</div>"
      ],
      "text/plain": [
       "type      geography  conventional  organic  price_diff\n",
       "0       Los Angeles          1.02    1.585       0.565\n",
       "1        Sacramento          1.26    1.840       0.580\n",
       "2         San Diego          1.09    1.800       0.710\n",
       "3     San Francisco          1.39    2.060       0.670"
      ]
     },
     "execution_count": null,
     "metadata": {},
     "output_type": "execute_result"
    }
   ],
   "source": [
    "# Displaying pivotmed\n",
    "\n",
    "pivotmed"
   ]
  },
  {
   "cell_type": "code",
   "execution_count": 228,
   "id": "acff00cb",
   "metadata": {},
   "outputs": [
    {
     "data": {
      "text/html": [
       "<div>\n",
       "<style scoped>\n",
       "    .dataframe tbody tr th:only-of-type {\n",
       "        vertical-align: middle;\n",
       "    }\n",
       "\n",
       "    .dataframe tbody tr th {\n",
       "        vertical-align: top;\n",
       "    }\n",
       "\n",
       "    .dataframe thead th {\n",
       "        text-align: right;\n",
       "    }\n",
       "</style>\n",
       "<table border=\"1\" class=\"dataframe\">\n",
       "  <thead>\n",
       "    <tr style=\"text-align: right;\">\n",
       "      <th>type</th>\n",
       "      <th>geography</th>\n",
       "      <th>conventional</th>\n",
       "      <th>organic</th>\n",
       "      <th>price_diff</th>\n",
       "    </tr>\n",
       "  </thead>\n",
       "  <tbody>\n",
       "    <tr>\n",
       "      <th>2</th>\n",
       "      <td>San Diego</td>\n",
       "      <td>1.09</td>\n",
       "      <td>1.800</td>\n",
       "      <td>0.710</td>\n",
       "    </tr>\n",
       "    <tr>\n",
       "      <th>3</th>\n",
       "      <td>San Francisco</td>\n",
       "      <td>1.39</td>\n",
       "      <td>2.060</td>\n",
       "      <td>0.670</td>\n",
       "    </tr>\n",
       "    <tr>\n",
       "      <th>1</th>\n",
       "      <td>Sacramento</td>\n",
       "      <td>1.26</td>\n",
       "      <td>1.840</td>\n",
       "      <td>0.580</td>\n",
       "    </tr>\n",
       "    <tr>\n",
       "      <th>0</th>\n",
       "      <td>Los Angeles</td>\n",
       "      <td>1.02</td>\n",
       "      <td>1.585</td>\n",
       "      <td>0.565</td>\n",
       "    </tr>\n",
       "  </tbody>\n",
       "</table>\n",
       "</div>"
      ],
      "text/plain": [
       "type      geography  conventional  organic  price_diff\n",
       "2         San Diego          1.09    1.800       0.710\n",
       "3     San Francisco          1.39    2.060       0.670\n",
       "1        Sacramento          1.26    1.840       0.580\n",
       "0       Los Angeles          1.02    1.585       0.565"
      ]
     },
     "execution_count": null,
     "metadata": {},
     "output_type": "execute_result"
    }
   ],
   "source": [
    "# Displaying the pivotmed in order\n",
    "\n",
    "pivotmed.sort_values(by='price_diff', ascending=False)"
   ]
  },
  {
   "cell_type": "markdown",
   "id": "74e96289",
   "metadata": {},
   "source": [
    "Now, it shows that the price difference for the medians of conventional and organic avocados are most different in San Diego at a difference of 0.710. San Francisco follows at 0.670. "
   ]
  },
  {
   "cell_type": "code",
   "execution_count": 229,
   "id": "406c235f",
   "metadata": {},
   "outputs": [],
   "source": [
    "# Comparing by range\n",
    "range_stats = (\n",
    "    california_data\n",
    "    .groupby(['geography', 'type'])['average_price']\n",
    "    .agg(min_price='min', max_price='max')\n",
    "    .reset_index()\n",
    ")"
   ]
  },
  {
   "cell_type": "code",
   "execution_count": 230,
   "id": "8711a234",
   "metadata": {},
   "outputs": [],
   "source": [
    "# Computing the range\n",
    "range_stats['price_range'] = range_stats['max_price'] - range_stats['min_price']\n"
   ]
  },
  {
   "cell_type": "code",
   "execution_count": 231,
   "id": "9d388a2e",
   "metadata": {},
   "outputs": [
    {
     "data": {
      "text/html": [
       "<div>\n",
       "<style scoped>\n",
       "    .dataframe tbody tr th:only-of-type {\n",
       "        vertical-align: middle;\n",
       "    }\n",
       "\n",
       "    .dataframe tbody tr th {\n",
       "        vertical-align: top;\n",
       "    }\n",
       "\n",
       "    .dataframe thead th {\n",
       "        text-align: right;\n",
       "    }\n",
       "</style>\n",
       "<table border=\"1\" class=\"dataframe\">\n",
       "  <thead>\n",
       "    <tr style=\"text-align: right;\">\n",
       "      <th></th>\n",
       "      <th>geography</th>\n",
       "      <th>type</th>\n",
       "      <th>min_price</th>\n",
       "      <th>max_price</th>\n",
       "      <th>price_range</th>\n",
       "    </tr>\n",
       "  </thead>\n",
       "  <tbody>\n",
       "    <tr>\n",
       "      <th>0</th>\n",
       "      <td>Los Angeles</td>\n",
       "      <td>conventional</td>\n",
       "      <td>0.53</td>\n",
       "      <td>1.80</td>\n",
       "      <td>1.27</td>\n",
       "    </tr>\n",
       "    <tr>\n",
       "      <th>1</th>\n",
       "      <td>Los Angeles</td>\n",
       "      <td>organic</td>\n",
       "      <td>0.96</td>\n",
       "      <td>2.44</td>\n",
       "      <td>1.48</td>\n",
       "    </tr>\n",
       "    <tr>\n",
       "      <th>2</th>\n",
       "      <td>Sacramento</td>\n",
       "      <td>conventional</td>\n",
       "      <td>0.86</td>\n",
       "      <td>1.89</td>\n",
       "      <td>1.03</td>\n",
       "    </tr>\n",
       "    <tr>\n",
       "      <th>3</th>\n",
       "      <td>Sacramento</td>\n",
       "      <td>organic</td>\n",
       "      <td>1.13</td>\n",
       "      <td>2.82</td>\n",
       "      <td>1.69</td>\n",
       "    </tr>\n",
       "    <tr>\n",
       "      <th>4</th>\n",
       "      <td>San Diego</td>\n",
       "      <td>conventional</td>\n",
       "      <td>0.61</td>\n",
       "      <td>1.83</td>\n",
       "      <td>1.22</td>\n",
       "    </tr>\n",
       "    <tr>\n",
       "      <th>5</th>\n",
       "      <td>San Diego</td>\n",
       "      <td>organic</td>\n",
       "      <td>1.05</td>\n",
       "      <td>2.78</td>\n",
       "      <td>1.73</td>\n",
       "    </tr>\n",
       "    <tr>\n",
       "      <th>6</th>\n",
       "      <td>San Francisco</td>\n",
       "      <td>conventional</td>\n",
       "      <td>0.84</td>\n",
       "      <td>2.20</td>\n",
       "      <td>1.36</td>\n",
       "    </tr>\n",
       "    <tr>\n",
       "      <th>7</th>\n",
       "      <td>San Francisco</td>\n",
       "      <td>organic</td>\n",
       "      <td>1.06</td>\n",
       "      <td>3.25</td>\n",
       "      <td>2.19</td>\n",
       "    </tr>\n",
       "  </tbody>\n",
       "</table>\n",
       "</div>"
      ],
      "text/plain": [
       "       geography          type  min_price  max_price  price_range\n",
       "0    Los Angeles  conventional       0.53       1.80         1.27\n",
       "1    Los Angeles       organic       0.96       2.44         1.48\n",
       "2     Sacramento  conventional       0.86       1.89         1.03\n",
       "3     Sacramento       organic       1.13       2.82         1.69\n",
       "4      San Diego  conventional       0.61       1.83         1.22\n",
       "5      San Diego       organic       1.05       2.78         1.73\n",
       "6  San Francisco  conventional       0.84       2.20         1.36\n",
       "7  San Francisco       organic       1.06       3.25         2.19"
      ]
     },
     "execution_count": null,
     "metadata": {},
     "output_type": "execute_result"
    }
   ],
   "source": [
    "# Displaying the range\n",
    "\n",
    "range_stats"
   ]
  },
  {
   "cell_type": "markdown",
   "id": "a899fab7",
   "metadata": {},
   "source": [
    "The range is greatest in San Fransisco for both minimum and maximum prices for conventional and organic avocados. Because the differences in means may be skewed by outliers, we can use the median data instead to get a good idea of the middle value for each category. Based on the median information, avocados are most different in San Diego at a difference of 0.710. "
   ]
  },
  {
   "cell_type": "code",
   "execution_count": 232,
   "id": "d0aee8ec",
   "metadata": {},
   "outputs": [],
   "source": [
    "# Creating a plot with medians\n",
    "\n",
    "from plotnine import ggplot, aes, geom_col, labs, theme, element_text\n",
    "\n",
    "p_diff = (\n",
    "    ggplot(pivotmed, aes(x='geography', y='price_diff'))\n",
    "    + geom_col(fill='skyblue')   \n",
    "    + labs(\n",
    "        title = \"Median Price Gap: Organic vs Conventional\",\n",
    "        x = \"Metro Region\",\n",
    "        y = \"Median Price Difference ($)\"\n",
    "    )\n",
    "    + theme(\n",
    "        axis_text_x = element_text(),\n",
    "        plot_title = element_text(face='bold'),\n",
    "        figure_size = (8, 6)\n",
    "    )\n",
    ")\n"
   ]
  },
  {
   "cell_type": "code",
   "execution_count": 233,
   "id": "7c7e09d0",
   "metadata": {},
   "outputs": [
    {
     "data": {
      "image/png": "[encoded data removed]",
      "text/plain": [
       "<Figure size 800x600 with 1 Axes>"
      ]
     },
     "metadata": {},
     "output_type": "display_data"
    }
   ],
   "source": [
    "# Displaying the difference in medians graph\n",
    "\n",
    "p_diff"
   ]
  },
  {
   "cell_type": "code",
   "execution_count": 280,
   "id": "01f91ce2",
   "metadata": {},
   "outputs": [],
   "source": [
    "# Creating the final graph\n",
    "from plotnine import ggplot, aes, geom_col, facet_grid, labs, theme, element_text, scale_fill_manual\n",
    "from plotnine.positions import position_fill\n",
    "\n",
    "# Renaming the size columns\n",
    "california_data = california_data.rename(columns={\n",
    "    'small_avocado': 'Small',\n",
    "    'large_avocado': 'Large',\n",
    "    'extrasmall_avocado': 'Extra Small'  \n",
    "})\n",
    "\n",
    "# Setting orders for consistency\n",
    "region_order = ['Los Angeles', 'Sacramento', 'San Diego', 'San Francisco']\n",
    "size_order   = ['Extra Small', 'Large', 'Small']\n",
    "type_order   = ['conventional', 'organic']\n",
    "\n",
    "# Averaging the size volumes by region and type\n",
    "avg = (\n",
    "    california_data\n",
    "    .groupby(['geography', 'type'], as_index=False)[['Extra Small', 'Small', 'Large']]\n",
    "    .mean()\n",
    ")\n",
    "\n",
    "# Melting into long form\n",
    "long = avg.melt(\n",
    "    id_vars=['geography', 'type'],\n",
    "    value_vars=size_order,\n",
    "    var_name='size',\n",
    "    value_name='avg_sales'\n",
    ")\n",
    "\n",
    "# Setting categorical order\n",
    "long['geography'] = pd.Categorical(long['geography'], region_order, ordered=True)\n",
    "long['type'] = pd.Categorical(long['type'], type_order, ordered=True)\n",
    "long['size'] = pd.Categorical(long['size'], size_order, ordered=True)\n"
   ]
  },
  {
   "cell_type": "code",
   "execution_count": 281,
   "id": "b3cb623d",
   "metadata": {},
   "outputs": [],
   "source": [
    "# Plotting \n",
    "recreation = (\n",
    "    ggplot(long, aes('geography', 'avg_sales', fill='size'))\n",
    "    + geom_col(position=position_fill())  # stacked bars scaled to proportion\n",
    "    + facet_grid('~type')                 # one column per type\n",
    "    + labs(\n",
    "        title='Proportion of Average Hass Avocado Sales by Size',\n",
    "        x='Region of California',\n",
    "        y='Proportion',\n",
    "        fill='Size'\n",
    "    )\n",
    "    + scale_fill_manual(\n",
    "        values={\n",
    "            'Extra Small': '#9467BD',  # purple\n",
    "            'Small': '#D55E00',        # teal\n",
    "            'Large': '#3CB371'         # orange \n",
    "        }\n",
    "    )\n",
    "\n",
    "    + theme(\n",
    "        axis_text_x=element_text(rotation=35, ha='right'),\n",
    "        figure_size=(10, 8),\n",
    "        subplots_adjust={'wspace': 0.15}\n",
    "    )\n",
    ")\n"
   ]
  },
  {
   "cell_type": "code",
   "execution_count": 282,
   "id": "6df55d38",
   "metadata": {},
   "outputs": [
    {
     "name": "stderr",
     "output_type": "stream",
     "text": [
      "/opt/anaconda3/lib/python3.13/site-packages/plotnine/themes/themeable.py:2486: FutureWarning: You no longer need to use subplots_adjust to make space for the legend or text around the panels. This parameter will be removed in a future version. You can still use 'plot_margin' 'panel_spacing' for your other spacing needs.\n"
     ]
    },
    {
     "data": {
      "image/png": "[encoded data removed]",
      "text/plain": [
       "<Figure size 1000x800 with 2 Axes>"
      ]
     },
     "metadata": {},
     "output_type": "display_data"
    }
   ],
   "source": [
    "# Showing the graph\n",
    "\n",
    "recreation"
   ]
  },
  {
   "cell_type": "markdown",
   "id": "e0663457",
   "metadata": {},
   "source": [
    "USING OUTSIDE DATA SECTION"
   ]
  },
  {
   "cell_type": "code",
   "execution_count": null,
   "id": "ce915f84",
   "metadata": {},
   "outputs": [],
   "source": [
    "# creating dataframe with median avocado prices in california cities\n",
    "\n",
    "grouped = california_data.groupby(['geography'])['average_price']\n",
    "\n",
    "summaryprice = grouped.agg(['median']).reset_index()"
   ]
  },
  {
   "cell_type": "code",
   "execution_count": 255,
   "id": "6a478ffc",
   "metadata": {},
   "outputs": [],
   "source": [
    "summaryprice = summaryprice.rename(columns={'median': 'avocado price'})\n"
   ]
  },
  {
   "cell_type": "code",
   "execution_count": 256,
   "id": "9a365649",
   "metadata": {},
   "outputs": [
    {
     "data": {
      "text/html": [
       "<div>\n",
       "<style scoped>\n",
       "    .dataframe tbody tr th:only-of-type {\n",
       "        vertical-align: middle;\n",
       "    }\n",
       "\n",
       "    .dataframe tbody tr th {\n",
       "        vertical-align: top;\n",
       "    }\n",
       "\n",
       "    .dataframe thead th {\n",
       "        text-align: right;\n",
       "    }\n",
       "</style>\n",
       "<table border=\"1\" class=\"dataframe\">\n",
       "  <thead>\n",
       "    <tr style=\"text-align: right;\">\n",
       "      <th></th>\n",
       "      <th>geography</th>\n",
       "      <th>avocado price</th>\n",
       "    </tr>\n",
       "  </thead>\n",
       "  <tbody>\n",
       "    <tr>\n",
       "      <th>0</th>\n",
       "      <td>Los Angeles</td>\n",
       "      <td>1.230</td>\n",
       "    </tr>\n",
       "    <tr>\n",
       "      <th>1</th>\n",
       "      <td>Sacramento</td>\n",
       "      <td>1.595</td>\n",
       "    </tr>\n",
       "    <tr>\n",
       "      <th>2</th>\n",
       "      <td>San Diego</td>\n",
       "      <td>1.410</td>\n",
       "    </tr>\n",
       "    <tr>\n",
       "      <th>3</th>\n",
       "      <td>San Francisco</td>\n",
       "      <td>1.750</td>\n",
       "    </tr>\n",
       "  </tbody>\n",
       "</table>\n",
       "</div>"
      ],
      "text/plain": [
       "       geography  avocado price\n",
       "0    Los Angeles          1.230\n",
       "1     Sacramento          1.595\n",
       "2      San Diego          1.410\n",
       "3  San Francisco          1.750"
      ]
     },
     "execution_count": null,
     "metadata": {},
     "output_type": "execute_result"
    }
   ],
   "source": [
    "summaryprice"
   ]
  },
  {
   "cell_type": "code",
   "execution_count": null,
   "id": "d8b04323",
   "metadata": {},
   "outputs": [],
   "source": [
    "# Creating dataframe with median avocado sales amount\n",
    "\n",
    "grouped = california_data.groupby(['geography'])['total_sold']\n",
    "\n",
    "summarysold = grouped.agg(['median']).reset_index()"
   ]
  },
  {
   "cell_type": "code",
   "execution_count": 253,
   "id": "faebc93d",
   "metadata": {},
   "outputs": [],
   "source": [
    "summarysold = summarysold.rename(columns={'median': 'avocados sold'})"
   ]
  },
  {
   "cell_type": "code",
   "execution_count": 254,
   "id": "e2398600",
   "metadata": {},
   "outputs": [
    {
     "data": {
      "text/html": [
       "<div>\n",
       "<style scoped>\n",
       "    .dataframe tbody tr th:only-of-type {\n",
       "        vertical-align: middle;\n",
       "    }\n",
       "\n",
       "    .dataframe tbody tr th {\n",
       "        vertical-align: top;\n",
       "    }\n",
       "\n",
       "    .dataframe thead th {\n",
       "        text-align: right;\n",
       "    }\n",
       "</style>\n",
       "<table border=\"1\" class=\"dataframe\">\n",
       "  <thead>\n",
       "    <tr style=\"text-align: right;\">\n",
       "      <th></th>\n",
       "      <th>geography</th>\n",
       "      <th>avocados sold</th>\n",
       "    </tr>\n",
       "  </thead>\n",
       "  <tbody>\n",
       "    <tr>\n",
       "      <th>0</th>\n",
       "      <td>Los Angeles</td>\n",
       "      <td>864590.440</td>\n",
       "    </tr>\n",
       "    <tr>\n",
       "      <th>1</th>\n",
       "      <td>Sacramento</td>\n",
       "      <td>146904.855</td>\n",
       "    </tr>\n",
       "    <tr>\n",
       "      <th>2</th>\n",
       "      <td>San Diego</td>\n",
       "      <td>157449.985</td>\n",
       "    </tr>\n",
       "    <tr>\n",
       "      <th>3</th>\n",
       "      <td>San Francisco</td>\n",
       "      <td>284491.125</td>\n",
       "    </tr>\n",
       "  </tbody>\n",
       "</table>\n",
       "</div>"
      ],
      "text/plain": [
       "       geography  avocados sold\n",
       "0    Los Angeles     864590.440\n",
       "1     Sacramento     146904.855\n",
       "2      San Diego     157449.985\n",
       "3  San Francisco     284491.125"
      ]
     },
     "execution_count": null,
     "metadata": {},
     "output_type": "execute_result"
    }
   ],
   "source": [
    "summarysold"
   ]
  },
  {
   "cell_type": "code",
   "execution_count": 252,
   "id": "d2fdd974",
   "metadata": {},
   "outputs": [
    {
     "data": {
      "text/html": [
       "<div>\n",
       "<style scoped>\n",
       "    .dataframe tbody tr th:only-of-type {\n",
       "        vertical-align: middle;\n",
       "    }\n",
       "\n",
       "    .dataframe tbody tr th {\n",
       "        vertical-align: top;\n",
       "    }\n",
       "\n",
       "    .dataframe thead th {\n",
       "        text-align: right;\n",
       "    }\n",
       "</style>\n",
       "<table border=\"1\" class=\"dataframe\">\n",
       "  <thead>\n",
       "    <tr style=\"text-align: right;\">\n",
       "      <th></th>\n",
       "      <th>geography</th>\n",
       "      <th>house price</th>\n",
       "    </tr>\n",
       "  </thead>\n",
       "  <tbody>\n",
       "    <tr>\n",
       "      <th>0</th>\n",
       "      <td>Los Angeles</td>\n",
       "      <td>1040000</td>\n",
       "    </tr>\n",
       "    <tr>\n",
       "      <th>1</th>\n",
       "      <td>Sacramento</td>\n",
       "      <td>522000</td>\n",
       "    </tr>\n",
       "    <tr>\n",
       "      <th>2</th>\n",
       "      <td>San Diego</td>\n",
       "      <td>950000</td>\n",
       "    </tr>\n",
       "    <tr>\n",
       "      <th>3</th>\n",
       "      <td>San Francisco</td>\n",
       "      <td>1200000</td>\n",
       "    </tr>\n",
       "  </tbody>\n",
       "</table>\n",
       "</div>"
      ],
      "text/plain": [
       "       geography  house price\n",
       "0    Los Angeles      1040000\n",
       "1     Sacramento       522000\n",
       "2      San Diego       950000\n",
       "3  San Francisco      1200000"
      ]
     },
     "execution_count": null,
     "metadata": {},
     "output_type": "execute_result"
    }
   ],
   "source": [
    "\n",
    "# Creating the housing price dataframe\n",
    "housing_data = pd.DataFrame({\n",
    "    'geography': ['Los Angeles', 'Sacramento', 'San Diego', 'San Francisco'],\n",
    "    'house price': [1040000, 522000, 950000, 1200000]\n",
    "})\n",
    "\n",
    "housing_data\n"
   ]
  },
  {
   "cell_type": "code",
   "execution_count": null,
   "id": "36287bed",
   "metadata": {},
   "outputs": [
    {
     "data": {
      "text/html": [
       "<div>\n",
       "<style scoped>\n",
       "    .dataframe tbody tr th:only-of-type {\n",
       "        vertical-align: middle;\n",
       "    }\n",
       "\n",
       "    .dataframe tbody tr th {\n",
       "        vertical-align: top;\n",
       "    }\n",
       "\n",
       "    .dataframe thead th {\n",
       "        text-align: right;\n",
       "    }\n",
       "</style>\n",
       "<table border=\"1\" class=\"dataframe\">\n",
       "  <thead>\n",
       "    <tr style=\"text-align: right;\">\n",
       "      <th></th>\n",
       "      <th>geography</th>\n",
       "      <th>avocados sold</th>\n",
       "      <th>house price</th>\n",
       "    </tr>\n",
       "  </thead>\n",
       "  <tbody>\n",
       "    <tr>\n",
       "      <th>0</th>\n",
       "      <td>Los Angeles</td>\n",
       "      <td>864590.440</td>\n",
       "      <td>1040000</td>\n",
       "    </tr>\n",
       "    <tr>\n",
       "      <th>1</th>\n",
       "      <td>Sacramento</td>\n",
       "      <td>146904.855</td>\n",
       "      <td>522000</td>\n",
       "    </tr>\n",
       "    <tr>\n",
       "      <th>2</th>\n",
       "      <td>San Diego</td>\n",
       "      <td>157449.985</td>\n",
       "      <td>950000</td>\n",
       "    </tr>\n",
       "    <tr>\n",
       "      <th>3</th>\n",
       "      <td>San Francisco</td>\n",
       "      <td>284491.125</td>\n",
       "      <td>1200000</td>\n",
       "    </tr>\n",
       "  </tbody>\n",
       "</table>\n",
       "</div>"
      ],
      "text/plain": [
       "       geography  avocados sold  house price\n",
       "0    Los Angeles     864590.440      1040000\n",
       "1     Sacramento     146904.855       522000\n",
       "2      San Diego     157449.985       950000\n",
       "3  San Francisco     284491.125      1200000"
      ]
     },
     "execution_count": null,
     "metadata": {},
     "output_type": "execute_result"
    }
   ],
   "source": [
    "# Merging on the shared \"geography\" column\n",
    "combined = pd.merge(summarysold, housing_data, on='geography', how='left')\n",
    "\n",
    "combined\n"
   ]
  },
  {
   "cell_type": "code",
   "execution_count": null,
   "id": "96d0d2c3",
   "metadata": {},
   "outputs": [
    {
     "data": {
      "text/html": [
       "<div>\n",
       "<style scoped>\n",
       "    .dataframe tbody tr th:only-of-type {\n",
       "        vertical-align: middle;\n",
       "    }\n",
       "\n",
       "    .dataframe tbody tr th {\n",
       "        vertical-align: top;\n",
       "    }\n",
       "\n",
       "    .dataframe thead th {\n",
       "        text-align: right;\n",
       "    }\n",
       "</style>\n",
       "<table border=\"1\" class=\"dataframe\">\n",
       "  <thead>\n",
       "    <tr style=\"text-align: right;\">\n",
       "      <th></th>\n",
       "      <th>geography</th>\n",
       "      <th>avocados sold</th>\n",
       "      <th>house price</th>\n",
       "      <th>avocado price</th>\n",
       "    </tr>\n",
       "  </thead>\n",
       "  <tbody>\n",
       "    <tr>\n",
       "      <th>0</th>\n",
       "      <td>Los Angeles</td>\n",
       "      <td>864590.440</td>\n",
       "      <td>1040000</td>\n",
       "      <td>1.230</td>\n",
       "    </tr>\n",
       "    <tr>\n",
       "      <th>1</th>\n",
       "      <td>Sacramento</td>\n",
       "      <td>146904.855</td>\n",
       "      <td>522000</td>\n",
       "      <td>1.595</td>\n",
       "    </tr>\n",
       "    <tr>\n",
       "      <th>2</th>\n",
       "      <td>San Diego</td>\n",
       "      <td>157449.985</td>\n",
       "      <td>950000</td>\n",
       "      <td>1.410</td>\n",
       "    </tr>\n",
       "    <tr>\n",
       "      <th>3</th>\n",
       "      <td>San Francisco</td>\n",
       "      <td>284491.125</td>\n",
       "      <td>1200000</td>\n",
       "      <td>1.750</td>\n",
       "    </tr>\n",
       "  </tbody>\n",
       "</table>\n",
       "</div>"
      ],
      "text/plain": [
       "       geography  avocados sold  house price  avocado price\n",
       "0    Los Angeles     864590.440      1040000          1.230\n",
       "1     Sacramento     146904.855       522000          1.595\n",
       "2      San Diego     157449.985       950000          1.410\n",
       "3  San Francisco     284491.125      1200000          1.750"
      ]
     },
     "execution_count": null,
     "metadata": {},
     "output_type": "execute_result"
    }
   ],
   "source": [
    "# Merge the avocado price data into existing combined dataframe\n",
    "combined = pd.merge(combined, summaryprice, on='geography', how='left')\n",
    "\n",
    "combined\n"
   ]
  },
  {
   "cell_type": "code",
   "execution_count": null,
   "id": "737be495",
   "metadata": {},
   "outputs": [
    {
     "data": {
      "image/png": "[encoded data removed]",
      "text/plain": [
       "<Figure size 1000x600 with 1 Axes>"
      ]
     },
     "metadata": {},
     "output_type": "display_data"
    }
   ],
   "source": [
    "# Creating bubble graph\n",
    "\n",
    "from plotnine import (\n",
    "    ggplot, aes, geom_point, geom_text,\n",
    "    scale_size_continuous, labs, theme, element_text\n",
    ")\n",
    "\n",
    "plot = (\n",
    "    ggplot(combined, aes(\n",
    "        x='house price',\n",
    "        y='avocado price',\n",
    "        size='avocados sold',\n",
    "        label='geography'\n",
    "    ))\n",
    "    + geom_point(color='#3CB371')  \n",
    "    + geom_text(nudge_y=0.05, size=8, show_legend=False)\n",
    "    + scale_size_continuous(range=[4, 17])     \n",
    "    + labs(\n",
    "        title='Home Prices and Avocado Prices + Sales',\n",
    "        x='Median Home Price',\n",
    "        y='Median Avocado Price',\n",
    "        size='Avocados Sold'\n",
    "    )\n",
    "    + theme(\n",
    "        figure_size=(10,6),\n",
    "        axis_text_x=element_text()\n",
    "    )\n",
    ")\n",
    "\n",
    "plot\n"
   ]
  },
  {
   "cell_type": "markdown",
   "id": "c7432c87",
   "metadata": {},
   "source": [
    "The sales of avocados are typically higher when house price is higher. We see that the median avocado sales are highest in Los Angeles and San Fransisco (because of their larger bubble sizes on the graph). Los Angeles and San Francisco are also the metro regions with the highest median house prices. Sacramento, the area with the lowest median house price has the smallest bubble on the graph, showing the lowest of median avocado sales. We see that the most avocados were sold in Los Angeles where avocado median prices were actually the lowest. Therefore, the most avaocados are typically sold when avocado price is lower and house prices are higher. "
   ]
  }
 ],
 "metadata": {
  "language_info": {
   "name": "python"
  }
 },
 "nbformat": 4,
 "nbformat_minor": 5
}
