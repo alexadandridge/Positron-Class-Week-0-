{
 "cells": [
  {
   "cell_type": "markdown",
   "id": "99b0a062",
   "metadata": {},
   "source": [
    "---\n",
    "title: LAB 3 Singing a Song\n",
    "author: Alexa Dandridge\n",
    "format:\n",
    "    html:\n",
    "        embed-resources: true\n",
    "        code-line numbers: true\n",
    "\n",
    "---\n",
    "**GitHub Repository** <https://github.com/alexadandridge/Positron-Class-Week-0->\n"
   ]
  },
  {
   "cell_type": "markdown",
   "id": "d6064ced",
   "metadata": {},
   "source": [
    "The task of this lab is to write functions that automatically sing this very repetitive song: \"*12 Days of Christmas*\"."
   ]
  },
  {
   "cell_type": "code",
   "execution_count": 114,
   "id": "31cc5b1d",
   "metadata": {},
   "outputs": [],
   "source": [
    "# Running the code to load in a dataset called xmas and import pandas\n",
    "import pandas as pd\n",
    "xmas = pd.read_csv(\"https://www.dropbox.com/scl/fi/qxaslqqp5p08i1650rpc4/xmas.csv?rlkey=erdxi7jbh7pqf9fh4lv4cayp5&dl=1\")"
   ]
  },
  {
   "cell_type": "code",
   "execution_count": 115,
   "id": "21908dfd",
   "metadata": {},
   "outputs": [
    {
     "data": {
      "text/html": [
       "<div>\n",
       "<style scoped>\n",
       "    .dataframe tbody tr th:only-of-type {\n",
       "        vertical-align: middle;\n",
       "    }\n",
       "\n",
       "    .dataframe tbody tr th {\n",
       "        vertical-align: top;\n",
       "    }\n",
       "\n",
       "    .dataframe thead th {\n",
       "        text-align: right;\n",
       "    }\n",
       "</style>\n",
       "<table border=\"1\" class=\"dataframe\">\n",
       "  <thead>\n",
       "    <tr style=\"text-align: right;\">\n",
       "      <th></th>\n",
       "      <th>Day</th>\n",
       "      <th>Day.in.Words</th>\n",
       "      <th>Gift.Item</th>\n",
       "      <th>Verb</th>\n",
       "      <th>Adjective</th>\n",
       "      <th>Location</th>\n",
       "    </tr>\n",
       "  </thead>\n",
       "  <tbody>\n",
       "    <tr>\n",
       "      <th>0</th>\n",
       "      <td>1</td>\n",
       "      <td>first</td>\n",
       "      <td>partridge</td>\n",
       "      <td>NaN</td>\n",
       "      <td>NaN</td>\n",
       "      <td>in a pear tree</td>\n",
       "    </tr>\n",
       "    <tr>\n",
       "      <th>1</th>\n",
       "      <td>2</td>\n",
       "      <td>second</td>\n",
       "      <td>dove</td>\n",
       "      <td>NaN</td>\n",
       "      <td>turtle</td>\n",
       "      <td>NaN</td>\n",
       "    </tr>\n",
       "    <tr>\n",
       "      <th>2</th>\n",
       "      <td>3</td>\n",
       "      <td>third</td>\n",
       "      <td>hen</td>\n",
       "      <td>NaN</td>\n",
       "      <td>french</td>\n",
       "      <td>NaN</td>\n",
       "    </tr>\n",
       "    <tr>\n",
       "      <th>3</th>\n",
       "      <td>4</td>\n",
       "      <td>fourth</td>\n",
       "      <td>bird</td>\n",
       "      <td>NaN</td>\n",
       "      <td>calling</td>\n",
       "      <td>NaN</td>\n",
       "    </tr>\n",
       "    <tr>\n",
       "      <th>4</th>\n",
       "      <td>5</td>\n",
       "      <td>fifth</td>\n",
       "      <td>ring</td>\n",
       "      <td>NaN</td>\n",
       "      <td>golden</td>\n",
       "      <td>NaN</td>\n",
       "    </tr>\n",
       "  </tbody>\n",
       "</table>\n",
       "</div>"
      ],
      "text/plain": [
       "   Day Day.in.Words  Gift.Item Verb Adjective        Location\n",
       "0    1        first  partridge  NaN       NaN  in a pear tree\n",
       "1    2       second       dove  NaN    turtle             NaN\n",
       "2    3        third        hen  NaN    french             NaN\n",
       "3    4       fourth       bird  NaN   calling             NaN\n",
       "4    5        fifth       ring  NaN    golden             NaN"
      ]
     },
     "execution_count": null,
     "metadata": {},
     "output_type": "execute_result"
    }
   ],
   "source": [
    "# Checking to see if the dataset loaded and seeing what it looks like\n",
    "xmas.head()"
   ]
  },
  {
   "cell_type": "markdown",
   "id": "12076f0f",
   "metadata": {},
   "source": [
    "**ADVICE SECTION:**"
   ]
  },
  {
   "cell_type": "markdown",
   "id": "096ac858",
   "metadata": {},
   "source": [
    "**Recommendation:** Write a function that works in one case, and then try to generalize. In building a **sing_day()** function, I might first write a version callled **sing_first_day()** that sings about the first day. "
   ]
  },
  {
   "cell_type": "code",
   "execution_count": 116,
   "id": "b9b4fd18",
   "metadata": {},
   "outputs": [],
   "source": [
    "# Writing the function for lyrics for the first day\n",
    "\n",
    "def sing_first_day():\n",
    "    \"\"\"\n",
    "    This function prints the lyrics for the first day of the xmas song\n",
    "    It extracts data for day 1, finds the values for Day.in.Words, Gift.Item,\n",
    "     and Location, and then constructs the lyrics for day 1. \n",
    "    \"\"\"\n",
    "    # This is the day that we are building lyrics about\n",
    "    day = 1    \n",
    "\n",
    "    # This is extracting information about that day\n",
    "    number = xmas.loc[xmas[\"Day\"] == day, \"Day.in.Words\"].values[0]\n",
    "    gift = xmas.loc[xmas[\"Day\"] == day, \"Gift.Item\"].values[0]\n",
    "    location = xmas.loc[xmas[\"Day\"] == day, \"Location\"].values[0]\n",
    "\n",
    "    # This is constructing the lines\n",
    "    song = (\n",
    "        \"On the \" + number + \" day of Christmas, my true love gave to me:\\n\"\n",
    "        + gift + \" \" + location + \".\\n\"\n",
    "    )\n",
    "\n",
    "    return song\n"
   ]
  },
  {
   "cell_type": "code",
   "execution_count": 117,
   "id": "de3628aa",
   "metadata": {},
   "outputs": [
    {
     "name": "stdout",
     "output_type": "stream",
     "text": [
      "On the first day of Christmas, my true love gave to me:\n",
      "partridge in a pear tree.\n",
      "\n"
     ]
    }
   ],
   "source": [
    "# Printing the lyrics for day 1\n",
    "print(sing_first_day())"
   ]
  },
  {
   "cell_type": "markdown",
   "id": "caf5d7b9",
   "metadata": {},
   "source": [
    "**FUNCTION 1: pluralize_gift()** \n",
    "\n",
    "Using the skeleton of the pluralize_gift() function, complete the code so that the function takes a gift and retruned the appropriate plural. "
   ]
  },
  {
   "cell_type": "code",
   "execution_count": 118,
   "id": "c5af2acb",
   "metadata": {},
   "outputs": [],
   "source": [
    "# Writing a function for the pluralize_gift() function \n",
    "\n",
    "def pluralize_gift(gift):\n",
    "    \"\"\"\n",
    "    This is a function that takes the gift nouns and makes them plural.\n",
    "    Specifically, this function works with both panda series and singular strings.\n",
    "    It has these rules:\n",
    "    -\"oo\"s are replaced with \"ee\"s\n",
    "    -\"y\"s are replaced with \"ies\"\n",
    "    -\"s\"s are added to other words\n",
    "    \"\"\"\n",
    "\n",
    "    # Path for a pandas series (vectorized)\n",
    "    if isinstance(gift, pd.Series):\n",
    "        s = gift.astype(\"string\")\n",
    "\n",
    "        # If word contains \"oo\", replace with \"ee\"\n",
    "        mask_oo = s.str.contains(\"oo\", na=False)\n",
    "        s = s.mask(mask_oo, s.str.replace(\"oo\", \"ee\", regex=False))\n",
    "\n",
    "        # If word ends with \"y\", change to \"ies\"\n",
    "        mask_y = s.str.endswith(\"y\", na=False)\n",
    "        s = s.mask(mask_y, s.str[:-1] + \"ies\")\n",
    "\n",
    "        # Everything else, just add \"s\" to the word\n",
    "        mask_else = ~(mask_oo | mask_y)\n",
    "        s = s.mask(mask_else, s + \"s\")\n",
    "\n",
    "        return s\n",
    "\n",
    "    # This is to pass just a singular string, not a pandas series (same rules)\n",
    "    gift = str(gift)\n",
    "    if \"oo\" in gift:\n",
    "        return gift.replace(\"oo\", \"ee\")\n",
    "    elif gift.endswith(\"y\"):\n",
    "        return gift[:-1] + \"ies\"\n",
    "    else:\n",
    "        return gift + \"s\"\n"
   ]
  },
  {
   "cell_type": "code",
   "execution_count": 119,
   "id": "f27aee43",
   "metadata": {},
   "outputs": [
    {
     "data": {
      "text/plain": [
       "'geese'"
      ]
     },
     "execution_count": null,
     "metadata": {},
     "output_type": "execute_result"
    }
   ],
   "source": [
    "# Checking to see if it works on a singular string\n",
    "pluralize_gift(\"goose\")\n"
   ]
  },
  {
   "cell_type": "code",
   "execution_count": 120,
   "id": "70a051f2",
   "metadata": {},
   "outputs": [
    {
     "data": {
      "text/plain": [
       "0     partridges\n",
       "1          doves\n",
       "2           hens\n",
       "3          birds\n",
       "4          rings\n",
       "5          geese\n",
       "6          swans\n",
       "7          maids\n",
       "8         ladies\n",
       "9          lords\n",
       "10        pipers\n",
       "11      drummers\n",
       "Name: Gift.Item, dtype: string"
      ]
     },
     "execution_count": null,
     "metadata": {},
     "output_type": "execute_result"
    }
   ],
   "source": [
    "# Checking to see if it will work on a whole column. Will work if your function is vectorized! \n",
    "pluralize_gift(xmas['Gift.Item'])"
   ]
  },
  {
   "cell_type": "markdown",
   "id": "09e40d88",
   "metadata": {},
   "source": [
    "**FUNCTION 2: make_phrase()**\n",
    "\n",
    "Write a function called make_phrase() that takes input with the necessary information, and returns a phrase.\n"
   ]
  },
  {
   "cell_type": "code",
   "execution_count": null,
   "id": "4239e994",
   "metadata": {},
   "outputs": [],
   "source": [
    "\n",
    "# Writing a function to convert values into a string and replace missing values\n",
    "def _to_str(x):\n",
    "    \"\"\"\n",
    "    Converting values into a string and replacing missing values with an empty string.\n",
    "    \"\"\"\n",
    "    return \"\" if pd.isna(x) else str(x)"
   ]
  },
  {
   "cell_type": "code",
   "execution_count": null,
   "id": "24955fc0",
   "metadata": {},
   "outputs": [],
   "source": [
    "\n",
    "# Creating a function to check if strings start with a vowel\n",
    "def _starts_with_vowel(s: str) -> bool:\n",
    "    \"\"\"\n",
    "    This function checks if a string starts with a vowel.\n",
    "    \"\"\"\n",
    "    s = s.strip().lower()\n",
    "    return bool(s) and s[0] in \"aeiou\"\n"
   ]
  },
  {
   "cell_type": "code",
   "execution_count": null,
   "id": "e8a29255",
   "metadata": {},
   "outputs": [],
   "source": [
    "\n",
    "# Creating the make_phrase() function\n",
    "def make_phrase(num, num_word, item, verb, adjective, location):\n",
    "    \"\"\"\n",
    "    This function builds a complete gift phrase for a specific day of the song\n",
    "    \"\"\"\n",
    "\n",
    "    ## Step 1: Replace NAs with blank strings (done 2 cells above)\n",
    "    num_word  = _to_str(num_word)\n",
    "    item      = _to_str(item)\n",
    "    verb      = _to_str(verb)\n",
    "    adjective = _to_str(adjective)\n",
    "    location  = _to_str(location)\n",
    "\n",
    "    ## Step 2: If the day number is larger than 1, the gift items need to be pluralized!\n",
    "    ### Hint: call the function you created above!\n",
    "    item_out = pluralize_gift(item) if num and int(num) > 1 else item\n",
    "\n",
    "    ## Step 3: Figure out if a gift item starts with a vowel\n",
    "    head = (adjective + \" \" + item).strip()\n",
    "\n",
    "    ## Step 4: For the first day, if the gift item starts with a vowel, replace the day with \"an\" and if the gift item does not start with a vowel, replace the day with \"a\" (e.g. a partridge in a pear tree). If it is not the first day, use just the number word (e.g. ten lords a leap)\n",
    "    if int(num) == 1:\n",
    "        article = \"an\" if _starts_with_vowel(head) else \"a\"\n",
    "        lead = article\n",
    "    else:\n",
    "        lead = num_word\n",
    "\n",
    "    ## Step 5: Put all of the pieces together into one string and return!\n",
    "    parts = [lead]\n",
    "    if adjective:\n",
    "        parts.append(adjective)\n",
    "    parts.append(item_out)\n",
    "    if verb:\n",
    "        parts.append(verb)\n",
    "    if location:\n",
    "        parts.append(location)\n",
    "\n",
    "    return \" \".join(p for p in parts if p).strip()\n"
   ]
  },
  {
   "cell_type": "markdown",
   "id": "cee9df23",
   "metadata": {},
   "source": [
    "Testing the function on small examples: "
   ]
  },
  {
   "cell_type": "code",
   "execution_count": null,
   "id": "f05c1ed1",
   "metadata": {},
   "outputs": [
    {
     "name": "stdout",
     "output_type": "stream",
     "text": [
      "a partridge in a pear tree\n",
      "two turtle doves\n",
      "five golden rings\n"
     ]
    }
   ],
   "source": [
    "#Testing the function \n",
    "\n",
    "print(make_phrase(1, \"one\", \"partridge\", \"\", \"\", \"in a pear tree\"))\n",
    "# → a partridge in a pear tree\n",
    "\n",
    "print(make_phrase(2, \"two\", \"dove\", \"\", \"turtle\", \"\"))\n",
    "# → two turtle doves\n",
    "\n",
    "print(make_phrase(5, \"five\", \"ring\", \"\", \"golden\", \"\"))\n",
    "# → five golden rings\n",
    "\n",
    "\n",
    "\n",
    "\n"
   ]
  },
  {
   "cell_type": "code",
   "execution_count": 125,
   "id": "11d2d0a5",
   "metadata": {},
   "outputs": [],
   "source": [
    "# Defining numeric days to word form\n",
    "\n",
    "COUNT_WORD = {\n",
    "    1: \"one\", 2: \"two\", 3: \"three\", 4: \"four\", 5: \"five\",\n",
    "    6: \"six\", 7: \"seven\", 8: \"eight\", 9: \"nine\",\n",
    "    10: \"ten\", 11: \"eleven\", 12: \"twelve\"\n",
    "}\n",
    "\n",
    "xmas[\"Count.word\"] = xmas[\"Day\"].map(COUNT_WORD)\n"
   ]
  },
  {
   "cell_type": "code",
   "execution_count": 126,
   "id": "f101c4b0",
   "metadata": {},
   "outputs": [],
   "source": [
    "# Builds lyrics for the whole xmas dataset and then adds it to a new column or Full.Phrase\n",
    "\n",
    "xmas[\"Full.Phrase\"] = xmas.apply(\n",
    "    lambda row: make_phrase(\n",
    "        num=row[\"Day\"],\n",
    "        num_word=row[\"Count.word\"],\n",
    "        item=row[\"Gift.Item\"],\n",
    "        verb=row[\"Verb\"],\n",
    "        adjective=row[\"Adjective\"],\n",
    "        location=row[\"Location\"]\n",
    "    ),\n",
    "    axis=1\n",
    ")\n"
   ]
  },
  {
   "cell_type": "code",
   "execution_count": 127,
   "id": "6b02c10c",
   "metadata": {},
   "outputs": [
    {
     "name": "stdout",
     "output_type": "stream",
     "text": [
      "    Day                 Full.Phrase\n",
      "0     1  a partridge in a pear tree\n",
      "1     2            two turtle doves\n",
      "2     3           three french hens\n",
      "3     4          four calling birds\n",
      "4     5           five golden rings\n",
      "5     6          six geese a-laying\n",
      "6     7      seven swans a-swimming\n",
      "7     8       eight maids a-milking\n",
      "8     9         nine ladies dancing\n",
      "9    10         ten lords a-leaping\n",
      "10   11        eleven pipers piping\n",
      "11   12    twelve drummers drumming\n"
     ]
    }
   ],
   "source": [
    "# Printing the whole song\n",
    "\n",
    "print(xmas[[\"Day\", \"Full.Phrase\"]])\n"
   ]
  },
  {
   "cell_type": "markdown",
   "id": "16f35a38",
   "metadata": {},
   "source": [
    "**Function 3: sing_day()**\n",
    "\n",
    "Write a function called sing_day()"
   ]
  },
  {
   "cell_type": "code",
   "execution_count": null,
   "id": "267f05bb",
   "metadata": {},
   "outputs": [],
   "source": [
    "# Writing the sing_day() function\n",
    "def sing_day(dataset, num, phrase_col):\n",
    "    \"\"\"\n",
    "    Sing the verse for a given day of 'The 12 Days of Christmas' song.\n",
    "    \"\"\"\n",
    "\n",
    "    # Step 1: Set up the intro line\n",
    "    num_word = dataset.loc[dataset[\"Day\"] == num, \"Day.in.Words\"].values[0]\n",
    "    intro = f\"On the {num_word} day of Christmas, my true love sent to me:\"\n",
    "\n",
    "    # Step 2: Sing the gift phrases\n",
    "    # Hint: What order are the gifts sung in each day?\n",
    "    gifts = \"\"\n",
    "    for i in range(num, 0, -1):\n",
    "        phrase = dataset.loc[dataset[\"Day\"] == i, phrase_col].values[0]\n",
    "\n",
    "        # Adding \"and\" before the partridge line (only for days > 1)\n",
    "        if i == 1 and num > 1 and not phrase.lower().startswith(\"and \"):\n",
    "            phrase = \"and \" + phrase\n",
    "\n",
    "        gifts += phrase\n",
    "        gifts += \",\\n\" if i > 1 else \".\"\n",
    "\n",
    "    # Step 3: Put it all together and return\n",
    "    return intro + \"\\n\" + gifts\n"
   ]
  },
  {
   "cell_type": "code",
   "execution_count": 129,
   "id": "a2cbf9da",
   "metadata": {},
   "outputs": [
    {
     "name": "stdout",
     "output_type": "stream",
     "text": [
      "On the first day of Christmas, my true love sent to me:\n",
      "a partridge in a pear tree.\n",
      "\n",
      "On the second day of Christmas, my true love sent to me:\n",
      "two turtle doves,\n",
      "and a partridge in a pear tree.\n",
      "\n",
      "On the third day of Christmas, my true love sent to me:\n",
      "three french hens,\n",
      "two turtle doves,\n",
      "and a partridge in a pear tree.\n"
     ]
    }
   ],
   "source": [
    "# Testing it out\n",
    "print(sing_day(xmas, 1, \"Full.Phrase\"))\n",
    "print()\n",
    "print(sing_day(xmas, 2, \"Full.Phrase\"))\n",
    "print()\n",
    "print(sing_day(xmas, 3, \"Full.Phrase\"))\n"
   ]
  },
  {
   "cell_type": "code",
   "execution_count": 130,
   "id": "e2cb1a11",
   "metadata": {},
   "outputs": [
    {
     "name": "stdout",
     "output_type": "stream",
     "text": [
      "On the first day of Christmas, my true love sent to me:\n",
      "a partridge in a pear tree.\n",
      "\n",
      "On the second day of Christmas, my true love sent to me:\n",
      "two turtle doves,\n",
      "and a partridge in a pear tree.\n",
      "\n",
      "On the third day of Christmas, my true love sent to me:\n",
      "three french hens,\n",
      "two turtle doves,\n",
      "and a partridge in a pear tree.\n",
      "\n",
      "On the fourth day of Christmas, my true love sent to me:\n",
      "four calling birds,\n",
      "three french hens,\n",
      "two turtle doves,\n",
      "and a partridge in a pear tree.\n",
      "\n",
      "On the fifth day of Christmas, my true love sent to me:\n",
      "five golden rings,\n",
      "four calling birds,\n",
      "three french hens,\n",
      "two turtle doves,\n",
      "and a partridge in a pear tree.\n",
      "\n",
      "On the sixth day of Christmas, my true love sent to me:\n",
      "six geese a-laying,\n",
      "five golden rings,\n",
      "four calling birds,\n",
      "three french hens,\n",
      "two turtle doves,\n",
      "and a partridge in a pear tree.\n",
      "\n",
      "On the seventh day of Christmas, my true love sent to me:\n",
      "seven swans a-swimming,\n",
      "six geese a-laying,\n",
      "five golden rings,\n",
      "four calling birds,\n",
      "three french hens,\n",
      "two turtle doves,\n",
      "and a partridge in a pear tree.\n",
      "\n",
      "On the eighth day of Christmas, my true love sent to me:\n",
      "eight maids a-milking,\n",
      "seven swans a-swimming,\n",
      "six geese a-laying,\n",
      "five golden rings,\n",
      "four calling birds,\n",
      "three french hens,\n",
      "two turtle doves,\n",
      "and a partridge in a pear tree.\n",
      "\n",
      "On the ninth day of Christmas, my true love sent to me:\n",
      "nine ladies dancing,\n",
      "eight maids a-milking,\n",
      "seven swans a-swimming,\n",
      "six geese a-laying,\n",
      "five golden rings,\n",
      "four calling birds,\n",
      "three french hens,\n",
      "two turtle doves,\n",
      "and a partridge in a pear tree.\n",
      "\n",
      "On the tenth day of Christmas, my true love sent to me:\n",
      "ten lords a-leaping,\n",
      "nine ladies dancing,\n",
      "eight maids a-milking,\n",
      "seven swans a-swimming,\n",
      "six geese a-laying,\n",
      "five golden rings,\n",
      "four calling birds,\n",
      "three french hens,\n",
      "two turtle doves,\n",
      "and a partridge in a pear tree.\n",
      "\n",
      "On the eleventh day of Christmas, my true love sent to me:\n",
      "eleven pipers piping,\n",
      "ten lords a-leaping,\n",
      "nine ladies dancing,\n",
      "eight maids a-milking,\n",
      "seven swans a-swimming,\n",
      "six geese a-laying,\n",
      "five golden rings,\n",
      "four calling birds,\n",
      "three french hens,\n",
      "two turtle doves,\n",
      "and a partridge in a pear tree.\n",
      "\n",
      "On the twelfth day of Christmas, my true love sent to me:\n",
      "twelve drummers drumming,\n",
      "eleven pipers piping,\n",
      "ten lords a-leaping,\n",
      "nine ladies dancing,\n",
      "eight maids a-milking,\n",
      "seven swans a-swimming,\n",
      "six geese a-laying,\n",
      "five golden rings,\n",
      "four calling birds,\n",
      "three french hens,\n",
      "two turtle doves,\n",
      "and a partridge in a pear tree.\n"
     ]
    }
   ],
   "source": [
    "# Trying to print the whole song\n",
    "print(sing_day(xmas, 1, \"Full.Phrase\"))\n",
    "print()\n",
    "print(sing_day(xmas, 2, \"Full.Phrase\"))\n",
    "print()\n",
    "print(sing_day(xmas, 3, \"Full.Phrase\"))\n",
    "print()\n",
    "print(sing_day(xmas, 4, \"Full.Phrase\"))\n",
    "print()\n",
    "print(sing_day(xmas, 5, \"Full.Phrase\"))\n",
    "print()\n",
    "print(sing_day(xmas, 6, \"Full.Phrase\"))\n",
    "print()\n",
    "print(sing_day(xmas, 7, \"Full.Phrase\"))\n",
    "print()\n",
    "print(sing_day(xmas, 8, \"Full.Phrase\"))\n",
    "print()\n",
    "print(sing_day(xmas, 9, \"Full.Phrase\"))\n",
    "print()\n",
    "print(sing_day(xmas, 10, \"Full.Phrase\"))\n",
    "print()\n",
    "print(sing_day(xmas, 11, \"Full.Phrase\"))\n",
    "print()\n",
    "print(sing_day(xmas, 12, \"Full.Phrase\"))"
   ]
  },
  {
   "cell_type": "markdown",
   "id": "fde27680",
   "metadata": {},
   "source": [
    "**USING MY FUNCTION**\n"
   ]
  },
  {
   "cell_type": "code",
   "execution_count": 131,
   "id": "c4f1e4fd",
   "metadata": {},
   "outputs": [],
   "source": [
    "# Importing data for xmas2\n",
    "xmas2 = pd.read_csv(\"https://www.dropbox.com/scl/fi/p9x9k8xwuzs9rhp582vfy/xmas_2.csv?rlkey=kvc3j3lmyn4opcidsrhcmrof1&dl=1\")"
   ]
  },
  {
   "cell_type": "code",
   "execution_count": 132,
   "id": "603dedab",
   "metadata": {},
   "outputs": [],
   "source": [
    "# Create the Count.word column (required for make_phrase)\n",
    "COUNT_WORD = {\n",
    "    1:\"one\", 2:\"two\", 3:\"three\", 4:\"four\", 5:\"five\",\n",
    "    6:\"six\", 7:\"seven\", 8:\"eight\", 9:\"nine\",\n",
    "    10:\"ten\", 11:\"eleven\", 12:\"twelve\"\n",
    "}\n",
    "xmas2[\"Count.word\"] = xmas2[\"Day\"].map(COUNT_WORD)"
   ]
  },
  {
   "cell_type": "code",
   "execution_count": 133,
   "id": "51b8984f",
   "metadata": {},
   "outputs": [],
   "source": [
    "\n",
    "# Create Full.Phrase using your make_phrase function\n",
    "xmas2[\"Full.Phrase\"] = xmas2.apply(\n",
    "    lambda r: make_phrase(\n",
    "        r[\"Day\"],\n",
    "        r[\"Count.word\"],\n",
    "        r[\"Gift.Item\"],\n",
    "        r[\"Verb\"],\n",
    "        r[\"Adjective\"],\n",
    "        r[\"Location\"]\n",
    "    ),\n",
    "    axis=1\n",
    ")"
   ]
  },
  {
   "cell_type": "code",
   "execution_count": 134,
   "id": "31ebad7c",
   "metadata": {},
   "outputs": [
    {
     "name": "stdout",
     "output_type": "stream",
     "text": [
      "On the first day of Christmas, my true love sent to me:\n",
      "an email from Cal Poly.\n",
      "\n",
      "On the second day of Christmas, my true love sent to me:\n",
      "two meal points,\n",
      "and an email from Cal Poly.\n",
      "\n",
      "On the third day of Christmas, my true love sent to me:\n",
      "three lost pens,\n",
      "two meal points,\n",
      "and an email from Cal Poly.\n",
      "\n",
      "On the fourth day of Christmas, my true love sent to me:\n",
      "four course reviews,\n",
      "three lost pens,\n",
      "two meal points,\n",
      "and an email from Cal Poly.\n",
      "\n",
      "On the fifth day of Christmas, my true love sent to me:\n",
      "five practice exams,\n",
      "four course reviews,\n",
      "three lost pens,\n",
      "two meal points,\n",
      "and an email from Cal Poly.\n",
      "\n",
      "On the sixth day of Christmas, my true love sent to me:\n",
      "six graders grading,\n",
      "five practice exams,\n",
      "four course reviews,\n",
      "three lost pens,\n",
      "two meal points,\n",
      "and an email from Cal Poly.\n",
      "\n",
      "On the seventh day of Christmas, my true love sent to me:\n",
      "seven seniors stressing,\n",
      "six graders grading,\n",
      "five practice exams,\n",
      "four course reviews,\n",
      "three lost pens,\n",
      "two meal points,\n",
      "and an email from Cal Poly.\n",
      "\n",
      "On the eighth day of Christmas, my true love sent to me:\n",
      "eight moms a-calling,\n",
      "seven seniors stressing,\n",
      "six graders grading,\n",
      "five practice exams,\n",
      "four course reviews,\n",
      "three lost pens,\n",
      "two meal points,\n",
      "and an email from Cal Poly.\n",
      "\n",
      "On the ninth day of Christmas, my true love sent to me:\n",
      "nine parties bumping,\n",
      "eight moms a-calling,\n",
      "seven seniors stressing,\n",
      "six graders grading,\n",
      "five practice exams,\n",
      "four course reviews,\n",
      "three lost pens,\n",
      "two meal points,\n",
      "and an email from Cal Poly.\n",
      "\n",
      "On the tenth day of Christmas, my true love sent to me:\n",
      "ten loads of laundry,\n",
      "nine parties bumping,\n",
      "eight moms a-calling,\n",
      "seven seniors stressing,\n",
      "six graders grading,\n",
      "five practice exams,\n",
      "four course reviews,\n",
      "three lost pens,\n",
      "two meal points,\n",
      "and an email from Cal Poly.\n",
      "\n",
      "On the eleventh day of Christmas, my true love sent to me:\n",
      "eleven friends goodbye-ing,\n",
      "ten loads of laundry,\n",
      "nine parties bumping,\n",
      "eight moms a-calling,\n",
      "seven seniors stressing,\n",
      "six graders grading,\n",
      "five practice exams,\n",
      "four course reviews,\n",
      "three lost pens,\n",
      "two meal points,\n",
      "and an email from Cal Poly.\n",
      "\n",
      "On the twelfth day of Christmas, my true love sent to me:\n",
      "twelve hours sleeping,\n",
      "eleven friends goodbye-ing,\n",
      "ten loads of laundry,\n",
      "nine parties bumping,\n",
      "eight moms a-calling,\n",
      "seven seniors stressing,\n",
      "six graders grading,\n",
      "five practice exams,\n",
      "four course reviews,\n",
      "three lost pens,\n",
      "two meal points,\n",
      "and an email from Cal Poly.\n"
     ]
    }
   ],
   "source": [
    "# Printing all of xmas2 song\n",
    "print(sing_day(xmas2, 1, \"Full.Phrase\"))\n",
    "print()\n",
    "print(sing_day(xmas2, 2, \"Full.Phrase\"))\n",
    "print()\n",
    "print(sing_day(xmas2, 3, \"Full.Phrase\"))\n",
    "print()\n",
    "print(sing_day(xmas2, 4, \"Full.Phrase\"))\n",
    "print()\n",
    "print(sing_day(xmas2, 5, \"Full.Phrase\"))\n",
    "print()\n",
    "print(sing_day(xmas2, 6, \"Full.Phrase\"))\n",
    "print()\n",
    "print(sing_day(xmas2, 7, \"Full.Phrase\"))\n",
    "print()\n",
    "print(sing_day(xmas2, 8, \"Full.Phrase\"))\n",
    "print()\n",
    "print(sing_day(xmas2, 9, \"Full.Phrase\"))\n",
    "print()\n",
    "print(sing_day(xmas2, 10, \"Full.Phrase\"))\n",
    "print()\n",
    "print(sing_day(xmas2, 11, \"Full.Phrase\"))\n",
    "print()\n",
    "print(sing_day(xmas2, 12, \"Full.Phrase\"))"
   ]
  }
 ],
 "metadata": {
  "language_info": {
   "name": "python"
  }
 },
 "nbformat": 4,
 "nbformat_minor": 5
}
